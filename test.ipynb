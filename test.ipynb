{
 "cells": [
  {
   "cell_type": "code",
   "execution_count": 117,
   "metadata": {},
   "outputs": [],
   "source": [
    "import warnings\n",
    "import numpy as np\n",
    "import pandas as pd\n",
    "import seaborn as sns\n",
    "from matplotlib import pyplot as plt\n",
    "import plotly.express as px\n",
    "\n",
    "from sklearn.model_selection import train_test_split\n",
    "from sklearn import metrics, preprocessing\n",
    "from sklearn.impute import SimpleImputer\n",
    "\n",
    "import tensorflow as tf\n",
    "from tensorflow import keras\n",
    "\n",
    "import scipy.stats as stats\n",
    "\n",
    "import my_module\n",
    "\n",
    "pd.options.display.max_rows = 10\n",
    "pd.options.display.float_format = \"{:.2f}\".format\n",
    "\n",
    "sns.set_theme(style=\"darkgrid\")\n",
    "\n",
    "cm = px.colors.sequential.Emrld\n",
    "\n",
    "warnings.filterwarnings(\"ignore\")"
   ]
  },
  {
   "cell_type": "code",
   "execution_count": null,
   "metadata": {},
   "outputs": [],
   "source": []
  },
  {
   "cell_type": "code",
   "execution_count": 118,
   "metadata": {},
   "outputs": [
    {
     "data": {
      "text/html": [
       "<div>\n",
       "<style scoped>\n",
       "    .dataframe tbody tr th:only-of-type {\n",
       "        vertical-align: middle;\n",
       "    }\n",
       "\n",
       "    .dataframe tbody tr th {\n",
       "        vertical-align: top;\n",
       "    }\n",
       "\n",
       "    .dataframe thead th {\n",
       "        text-align: right;\n",
       "    }\n",
       "</style>\n",
       "<table border=\"1\" class=\"dataframe\">\n",
       "  <thead>\n",
       "    <tr style=\"text-align: right;\">\n",
       "      <th></th>\n",
       "      <th>MSSubClass</th>\n",
       "      <th>MSZoning</th>\n",
       "      <th>LotFrontage</th>\n",
       "      <th>LotArea</th>\n",
       "      <th>Street</th>\n",
       "      <th>Alley</th>\n",
       "      <th>LotShape</th>\n",
       "      <th>LandContour</th>\n",
       "      <th>Utilities</th>\n",
       "      <th>LotConfig</th>\n",
       "      <th>...</th>\n",
       "      <th>PoolArea</th>\n",
       "      <th>PoolQC</th>\n",
       "      <th>Fence</th>\n",
       "      <th>MiscFeature</th>\n",
       "      <th>MiscVal</th>\n",
       "      <th>MoSold</th>\n",
       "      <th>YrSold</th>\n",
       "      <th>SaleType</th>\n",
       "      <th>SaleCondition</th>\n",
       "      <th>SalePrice</th>\n",
       "    </tr>\n",
       "  </thead>\n",
       "  <tbody>\n",
       "    <tr>\n",
       "      <th>2914</th>\n",
       "      <td>160</td>\n",
       "      <td>RM</td>\n",
       "      <td>21.00</td>\n",
       "      <td>1936</td>\n",
       "      <td>Pave</td>\n",
       "      <td>NaN</td>\n",
       "      <td>Reg</td>\n",
       "      <td>Lvl</td>\n",
       "      <td>AllPub</td>\n",
       "      <td>Inside</td>\n",
       "      <td>...</td>\n",
       "      <td>0</td>\n",
       "      <td>NaN</td>\n",
       "      <td>NaN</td>\n",
       "      <td>NaN</td>\n",
       "      <td>0</td>\n",
       "      <td>6</td>\n",
       "      <td>2006</td>\n",
       "      <td>WD</td>\n",
       "      <td>Normal</td>\n",
       "      <td>NaN</td>\n",
       "    </tr>\n",
       "    <tr>\n",
       "      <th>2915</th>\n",
       "      <td>160</td>\n",
       "      <td>RM</td>\n",
       "      <td>21.00</td>\n",
       "      <td>1894</td>\n",
       "      <td>Pave</td>\n",
       "      <td>NaN</td>\n",
       "      <td>Reg</td>\n",
       "      <td>Lvl</td>\n",
       "      <td>AllPub</td>\n",
       "      <td>Inside</td>\n",
       "      <td>...</td>\n",
       "      <td>0</td>\n",
       "      <td>NaN</td>\n",
       "      <td>NaN</td>\n",
       "      <td>NaN</td>\n",
       "      <td>0</td>\n",
       "      <td>4</td>\n",
       "      <td>2006</td>\n",
       "      <td>WD</td>\n",
       "      <td>Abnorml</td>\n",
       "      <td>NaN</td>\n",
       "    </tr>\n",
       "    <tr>\n",
       "      <th>2916</th>\n",
       "      <td>20</td>\n",
       "      <td>RL</td>\n",
       "      <td>160.00</td>\n",
       "      <td>20000</td>\n",
       "      <td>Pave</td>\n",
       "      <td>NaN</td>\n",
       "      <td>Reg</td>\n",
       "      <td>Lvl</td>\n",
       "      <td>AllPub</td>\n",
       "      <td>Inside</td>\n",
       "      <td>...</td>\n",
       "      <td>0</td>\n",
       "      <td>NaN</td>\n",
       "      <td>NaN</td>\n",
       "      <td>NaN</td>\n",
       "      <td>0</td>\n",
       "      <td>9</td>\n",
       "      <td>2006</td>\n",
       "      <td>WD</td>\n",
       "      <td>Abnorml</td>\n",
       "      <td>NaN</td>\n",
       "    </tr>\n",
       "    <tr>\n",
       "      <th>2917</th>\n",
       "      <td>85</td>\n",
       "      <td>RL</td>\n",
       "      <td>62.00</td>\n",
       "      <td>10441</td>\n",
       "      <td>Pave</td>\n",
       "      <td>NaN</td>\n",
       "      <td>Reg</td>\n",
       "      <td>Lvl</td>\n",
       "      <td>AllPub</td>\n",
       "      <td>Inside</td>\n",
       "      <td>...</td>\n",
       "      <td>0</td>\n",
       "      <td>NaN</td>\n",
       "      <td>MnPrv</td>\n",
       "      <td>Shed</td>\n",
       "      <td>700</td>\n",
       "      <td>7</td>\n",
       "      <td>2006</td>\n",
       "      <td>WD</td>\n",
       "      <td>Normal</td>\n",
       "      <td>NaN</td>\n",
       "    </tr>\n",
       "    <tr>\n",
       "      <th>2918</th>\n",
       "      <td>60</td>\n",
       "      <td>RL</td>\n",
       "      <td>74.00</td>\n",
       "      <td>9627</td>\n",
       "      <td>Pave</td>\n",
       "      <td>NaN</td>\n",
       "      <td>Reg</td>\n",
       "      <td>Lvl</td>\n",
       "      <td>AllPub</td>\n",
       "      <td>Inside</td>\n",
       "      <td>...</td>\n",
       "      <td>0</td>\n",
       "      <td>NaN</td>\n",
       "      <td>NaN</td>\n",
       "      <td>NaN</td>\n",
       "      <td>0</td>\n",
       "      <td>11</td>\n",
       "      <td>2006</td>\n",
       "      <td>WD</td>\n",
       "      <td>Normal</td>\n",
       "      <td>NaN</td>\n",
       "    </tr>\n",
       "  </tbody>\n",
       "</table>\n",
       "<p>5 rows × 80 columns</p>\n",
       "</div>"
      ],
      "text/plain": [
       "      MSSubClass MSZoning  LotFrontage  LotArea Street Alley LotShape  \\\n",
       "2914         160       RM        21.00     1936   Pave   NaN      Reg   \n",
       "2915         160       RM        21.00     1894   Pave   NaN      Reg   \n",
       "2916          20       RL       160.00    20000   Pave   NaN      Reg   \n",
       "2917          85       RL        62.00    10441   Pave   NaN      Reg   \n",
       "2918          60       RL        74.00     9627   Pave   NaN      Reg   \n",
       "\n",
       "     LandContour Utilities LotConfig  ... PoolArea PoolQC  Fence MiscFeature  \\\n",
       "2914         Lvl    AllPub    Inside  ...        0    NaN    NaN         NaN   \n",
       "2915         Lvl    AllPub    Inside  ...        0    NaN    NaN         NaN   \n",
       "2916         Lvl    AllPub    Inside  ...        0    NaN    NaN         NaN   \n",
       "2917         Lvl    AllPub    Inside  ...        0    NaN  MnPrv        Shed   \n",
       "2918         Lvl    AllPub    Inside  ...        0    NaN    NaN         NaN   \n",
       "\n",
       "     MiscVal MoSold  YrSold  SaleType  SaleCondition  SalePrice  \n",
       "2914       0      6    2006        WD         Normal        NaN  \n",
       "2915       0      4    2006        WD        Abnorml        NaN  \n",
       "2916       0      9    2006        WD        Abnorml        NaN  \n",
       "2917     700      7    2006        WD         Normal        NaN  \n",
       "2918       0     11    2006        WD         Normal        NaN  \n",
       "\n",
       "[5 rows x 80 columns]"
      ]
     },
     "execution_count": 118,
     "metadata": {},
     "output_type": "execute_result"
    }
   ],
   "source": [
    "# PATH = '/kaggle/input/house-prices-advanced-regression-techniques/'\n",
    "PATH = \"\"\n",
    "\n",
    "train = pd.read_csv(f\"{PATH}train.csv\")\n",
    "train.drop([\"Id\"], axis=1, inplace=True)\n",
    "\n",
    "test = pd.read_csv(f\"{PATH}test.csv\")\n",
    "test_ID = test[\"Id\"]\n",
    "\n",
    "test.drop([\"Id\"], axis=1, inplace=True)\n",
    "\n",
    "df = pd.concat([train, test], ignore_index=True)\n",
    "\n",
    "df.tail()"
   ]
  },
  {
   "attachments": {},
   "cell_type": "markdown",
   "metadata": {},
   "source": [
    "<a id='1'> </a>\n",
    "\n",
    "# 1. EDA\n"
   ]
  },
  {
   "attachments": {},
   "cell_type": "markdown",
   "metadata": {},
   "source": [
    "NO EDA for now\n"
   ]
  },
  {
   "attachments": {},
   "cell_type": "markdown",
   "metadata": {},
   "source": [
    "<a id=\"2\"></a>\n",
    "\n",
    "# 2. Preprocessing\n"
   ]
  },
  {
   "cell_type": "code",
   "execution_count": 119,
   "metadata": {},
   "outputs": [
    {
     "name": "stdout",
     "output_type": "stream",
     "text": [
      "<class 'pandas.core.frame.DataFrame'>\n",
      "RangeIndex: 2919 entries, 0 to 2918\n",
      "Data columns (total 80 columns):\n",
      " #   Column         Non-Null Count  Dtype  \n",
      "---  ------         --------------  -----  \n",
      " 0   MSSubClass     2919 non-null   int64  \n",
      " 1   MSZoning       2915 non-null   object \n",
      " 2   LotFrontage    2433 non-null   float64\n",
      " 3   LotArea        2919 non-null   int64  \n",
      " 4   Street         2919 non-null   object \n",
      " 5   Alley          198 non-null    object \n",
      " 6   LotShape       2919 non-null   object \n",
      " 7   LandContour    2919 non-null   object \n",
      " 8   Utilities      2917 non-null   object \n",
      " 9   LotConfig      2919 non-null   object \n",
      " 10  LandSlope      2919 non-null   object \n",
      " 11  Neighborhood   2919 non-null   object \n",
      " 12  Condition1     2919 non-null   object \n",
      " 13  Condition2     2919 non-null   object \n",
      " 14  BldgType       2919 non-null   object \n",
      " 15  HouseStyle     2919 non-null   object \n",
      " 16  OverallQual    2919 non-null   int64  \n",
      " 17  OverallCond    2919 non-null   int64  \n",
      " 18  YearBuilt      2919 non-null   int64  \n",
      " 19  YearRemodAdd   2919 non-null   int64  \n",
      " 20  RoofStyle      2919 non-null   object \n",
      " 21  RoofMatl       2919 non-null   object \n",
      " 22  Exterior1st    2918 non-null   object \n",
      " 23  Exterior2nd    2918 non-null   object \n",
      " 24  MasVnrType     2895 non-null   object \n",
      " 25  MasVnrArea     2896 non-null   float64\n",
      " 26  ExterQual      2919 non-null   object \n",
      " 27  ExterCond      2919 non-null   object \n",
      " 28  Foundation     2919 non-null   object \n",
      " 29  BsmtQual       2838 non-null   object \n",
      " 30  BsmtCond       2837 non-null   object \n",
      " 31  BsmtExposure   2837 non-null   object \n",
      " 32  BsmtFinType1   2840 non-null   object \n",
      " 33  BsmtFinSF1     2918 non-null   float64\n",
      " 34  BsmtFinType2   2839 non-null   object \n",
      " 35  BsmtFinSF2     2918 non-null   float64\n",
      " 36  BsmtUnfSF      2918 non-null   float64\n",
      " 37  TotalBsmtSF    2918 non-null   float64\n",
      " 38  Heating        2919 non-null   object \n",
      " 39  HeatingQC      2919 non-null   object \n",
      " 40  CentralAir     2919 non-null   object \n",
      " 41  Electrical     2918 non-null   object \n",
      " 42  1stFlrSF       2919 non-null   int64  \n",
      " 43  2ndFlrSF       2919 non-null   int64  \n",
      " 44  LowQualFinSF   2919 non-null   int64  \n",
      " 45  GrLivArea      2919 non-null   int64  \n",
      " 46  BsmtFullBath   2917 non-null   float64\n",
      " 47  BsmtHalfBath   2917 non-null   float64\n",
      " 48  FullBath       2919 non-null   int64  \n",
      " 49  HalfBath       2919 non-null   int64  \n",
      " 50  BedroomAbvGr   2919 non-null   int64  \n",
      " 51  KitchenAbvGr   2919 non-null   int64  \n",
      " 52  KitchenQual    2918 non-null   object \n",
      " 53  TotRmsAbvGrd   2919 non-null   int64  \n",
      " 54  Functional     2917 non-null   object \n",
      " 55  Fireplaces     2919 non-null   int64  \n",
      " 56  FireplaceQu    1499 non-null   object \n",
      " 57  GarageType     2762 non-null   object \n",
      " 58  GarageYrBlt    2760 non-null   float64\n",
      " 59  GarageFinish   2760 non-null   object \n",
      " 60  GarageCars     2918 non-null   float64\n",
      " 61  GarageArea     2918 non-null   float64\n",
      " 62  GarageQual     2760 non-null   object \n",
      " 63  GarageCond     2760 non-null   object \n",
      " 64  PavedDrive     2919 non-null   object \n",
      " 65  WoodDeckSF     2919 non-null   int64  \n",
      " 66  OpenPorchSF    2919 non-null   int64  \n",
      " 67  EnclosedPorch  2919 non-null   int64  \n",
      " 68  3SsnPorch      2919 non-null   int64  \n",
      " 69  ScreenPorch    2919 non-null   int64  \n",
      " 70  PoolArea       2919 non-null   int64  \n",
      " 71  PoolQC         10 non-null     object \n",
      " 72  Fence          571 non-null    object \n",
      " 73  MiscFeature    105 non-null    object \n",
      " 74  MiscVal        2919 non-null   int64  \n",
      " 75  MoSold         2919 non-null   int64  \n",
      " 76  YrSold         2919 non-null   int64  \n",
      " 77  SaleType       2918 non-null   object \n",
      " 78  SaleCondition  2919 non-null   object \n",
      " 79  SalePrice      1460 non-null   float64\n",
      "dtypes: float64(12), int64(25), object(43)\n",
      "memory usage: 1.8+ MB\n"
     ]
    }
   ],
   "source": [
    "df.info()"
   ]
  },
  {
   "attachments": {},
   "cell_type": "markdown",
   "metadata": {},
   "source": [
    "As the first attemp, I will delete all columns with a lot of nan values\n"
   ]
  },
  {
   "cell_type": "code",
   "execution_count": 120,
   "metadata": {},
   "outputs": [],
   "source": [
    "df = my_module.delete_nan_column(df, 0.25)\n",
    "\n",
    "numeric_features = my_module.get_type_features(df, [\"int64\", \"float64\"])\n",
    "categorical_features = my_module.get_type_features(df, [\"object\"])"
   ]
  },
  {
   "cell_type": "code",
   "execution_count": 121,
   "metadata": {},
   "outputs": [
    {
     "name": "stdout",
     "output_type": "stream",
     "text": [
      "<class 'pandas.core.frame.DataFrame'>\n",
      "RangeIndex: 2919 entries, 0 to 2918\n",
      "Data columns (total 37 columns):\n",
      " #   Column         Non-Null Count  Dtype  \n",
      "---  ------         --------------  -----  \n",
      " 0   MSSubClass     2919 non-null   int64  \n",
      " 1   LotFrontage    2433 non-null   float64\n",
      " 2   LotArea        2919 non-null   int64  \n",
      " 3   OverallQual    2919 non-null   int64  \n",
      " 4   OverallCond    2919 non-null   int64  \n",
      " 5   YearBuilt      2919 non-null   int64  \n",
      " 6   YearRemodAdd   2919 non-null   int64  \n",
      " 7   MasVnrArea     2896 non-null   float64\n",
      " 8   BsmtFinSF1     2918 non-null   float64\n",
      " 9   BsmtFinSF2     2918 non-null   float64\n",
      " 10  BsmtUnfSF      2918 non-null   float64\n",
      " 11  TotalBsmtSF    2918 non-null   float64\n",
      " 12  1stFlrSF       2919 non-null   int64  \n",
      " 13  2ndFlrSF       2919 non-null   int64  \n",
      " 14  LowQualFinSF   2919 non-null   int64  \n",
      " 15  GrLivArea      2919 non-null   int64  \n",
      " 16  BsmtFullBath   2917 non-null   float64\n",
      " 17  BsmtHalfBath   2917 non-null   float64\n",
      " 18  FullBath       2919 non-null   int64  \n",
      " 19  HalfBath       2919 non-null   int64  \n",
      " 20  BedroomAbvGr   2919 non-null   int64  \n",
      " 21  KitchenAbvGr   2919 non-null   int64  \n",
      " 22  TotRmsAbvGrd   2919 non-null   int64  \n",
      " 23  Fireplaces     2919 non-null   int64  \n",
      " 24  GarageYrBlt    2760 non-null   float64\n",
      " 25  GarageCars     2918 non-null   float64\n",
      " 26  GarageArea     2918 non-null   float64\n",
      " 27  WoodDeckSF     2919 non-null   int64  \n",
      " 28  OpenPorchSF    2919 non-null   int64  \n",
      " 29  EnclosedPorch  2919 non-null   int64  \n",
      " 30  3SsnPorch      2919 non-null   int64  \n",
      " 31  ScreenPorch    2919 non-null   int64  \n",
      " 32  PoolArea       2919 non-null   int64  \n",
      " 33  MiscVal        2919 non-null   int64  \n",
      " 34  MoSold         2919 non-null   int64  \n",
      " 35  YrSold         2919 non-null   int64  \n",
      " 36  SalePrice      1460 non-null   float64\n",
      "dtypes: float64(12), int64(25)\n",
      "memory usage: 843.9 KB\n"
     ]
    }
   ],
   "source": [
    "df[numeric_features].info()"
   ]
  },
  {
   "attachments": {},
   "cell_type": "markdown",
   "metadata": {},
   "source": [
    "Imput median values in the numeric columns\n"
   ]
  },
  {
   "cell_type": "code",
   "execution_count": 122,
   "metadata": {},
   "outputs": [
    {
     "name": "stdout",
     "output_type": "stream",
     "text": [
      "<class 'pandas.core.frame.DataFrame'>\n",
      "RangeIndex: 2919 entries, 0 to 2918\n",
      "Data columns (total 37 columns):\n",
      " #   Column         Non-Null Count  Dtype  \n",
      "---  ------         --------------  -----  \n",
      " 0   MSSubClass     2919 non-null   float64\n",
      " 1   LotFrontage    2919 non-null   float64\n",
      " 2   LotArea        2919 non-null   float64\n",
      " 3   OverallQual    2919 non-null   float64\n",
      " 4   OverallCond    2919 non-null   float64\n",
      " 5   YearBuilt      2919 non-null   float64\n",
      " 6   YearRemodAdd   2919 non-null   float64\n",
      " 7   MasVnrArea     2919 non-null   float64\n",
      " 8   BsmtFinSF1     2919 non-null   float64\n",
      " 9   BsmtFinSF2     2919 non-null   float64\n",
      " 10  BsmtUnfSF      2919 non-null   float64\n",
      " 11  TotalBsmtSF    2919 non-null   float64\n",
      " 12  1stFlrSF       2919 non-null   float64\n",
      " 13  2ndFlrSF       2919 non-null   float64\n",
      " 14  LowQualFinSF   2919 non-null   float64\n",
      " 15  GrLivArea      2919 non-null   float64\n",
      " 16  BsmtFullBath   2919 non-null   float64\n",
      " 17  BsmtHalfBath   2919 non-null   float64\n",
      " 18  FullBath       2919 non-null   float64\n",
      " 19  HalfBath       2919 non-null   float64\n",
      " 20  BedroomAbvGr   2919 non-null   float64\n",
      " 21  KitchenAbvGr   2919 non-null   float64\n",
      " 22  TotRmsAbvGrd   2919 non-null   float64\n",
      " 23  Fireplaces     2919 non-null   float64\n",
      " 24  GarageYrBlt    2919 non-null   float64\n",
      " 25  GarageCars     2919 non-null   float64\n",
      " 26  GarageArea     2919 non-null   float64\n",
      " 27  WoodDeckSF     2919 non-null   float64\n",
      " 28  OpenPorchSF    2919 non-null   float64\n",
      " 29  EnclosedPorch  2919 non-null   float64\n",
      " 30  3SsnPorch      2919 non-null   float64\n",
      " 31  ScreenPorch    2919 non-null   float64\n",
      " 32  PoolArea       2919 non-null   float64\n",
      " 33  MiscVal        2919 non-null   float64\n",
      " 34  MoSold         2919 non-null   float64\n",
      " 35  YrSold         2919 non-null   float64\n",
      " 36  SalePrice      1460 non-null   float64\n",
      "dtypes: float64(37)\n",
      "memory usage: 843.9 KB\n"
     ]
    }
   ],
   "source": [
    "for col in numeric_features[:-1]:\n",
    "    imp = SimpleImputer(missing_values=np.nan, strategy=\"median\")\n",
    "    df[[col]] = imp.fit_transform(df[[col]])\n",
    "df[numeric_features].info()"
   ]
  },
  {
   "cell_type": "code",
   "execution_count": 123,
   "metadata": {},
   "outputs": [
    {
     "data": {
      "application/vnd.plotly.v1+json": {
       "config": {
        "plotlyServerURL": "https://plot.ly"
       },
       "data": [
        {
         "coloraxis": "coloraxis",
         "hovertemplate": "x: %{x}<br>y: %{y}<br>color: %{z}<extra></extra>",
         "name": "0",
         "type": "heatmap",
         "x": [
          "MSSubClass",
          "LotFrontage",
          "LotArea",
          "OverallQual",
          "OverallCond",
          "YearBuilt",
          "YearRemodAdd",
          "MasVnrArea",
          "BsmtFinSF1",
          "BsmtFinSF2",
          "BsmtUnfSF",
          "TotalBsmtSF",
          "1stFlrSF",
          "2ndFlrSF",
          "LowQualFinSF",
          "GrLivArea",
          "BsmtFullBath",
          "BsmtHalfBath",
          "FullBath",
          "HalfBath",
          "BedroomAbvGr",
          "KitchenAbvGr",
          "TotRmsAbvGrd",
          "Fireplaces",
          "GarageYrBlt",
          "GarageCars",
          "GarageArea",
          "WoodDeckSF",
          "OpenPorchSF",
          "EnclosedPorch",
          "3SsnPorch",
          "ScreenPorch",
          "PoolArea",
          "MiscVal",
          "MoSold",
          "YrSold",
          "SalePrice"
         ],
         "xaxis": "x",
         "y": [
          "MSSubClass",
          "LotFrontage",
          "LotArea",
          "OverallQual",
          "OverallCond",
          "YearBuilt",
          "YearRemodAdd",
          "MasVnrArea",
          "BsmtFinSF1",
          "BsmtFinSF2",
          "BsmtUnfSF",
          "TotalBsmtSF",
          "1stFlrSF",
          "2ndFlrSF",
          "LowQualFinSF",
          "GrLivArea",
          "BsmtFullBath",
          "BsmtHalfBath",
          "FullBath",
          "HalfBath",
          "BedroomAbvGr",
          "KitchenAbvGr",
          "TotRmsAbvGrd",
          "Fireplaces",
          "GarageYrBlt",
          "GarageCars",
          "GarageArea",
          "WoodDeckSF",
          "OpenPorchSF",
          "EnclosedPorch",
          "3SsnPorch",
          "ScreenPorch",
          "PoolArea",
          "MiscVal",
          "MoSold",
          "YrSold",
          "SalePrice"
         ],
         "yaxis": "y",
         "z": [
          [
           1,
           -0.38946901064249884,
           -0.20173004897275565,
           0.033637968531283854,
           -0.06562503782358062,
           0.03440874365928456,
           0.043314913552375725,
           0.006309136582548312,
           -0.0642542064029213,
           -0.07243126038018519,
           -0.12591300524001312,
           -0.2198931151663449,
           -0.2486414762389263,
           0.3093091069151055,
           0.02648179258605353,
           0.07167745094705508,
           0.010435577295845528,
           -0.001727884750491527,
           0.13913961291454802,
           0.17875018530614814,
           -0.008796151524740918,
           0.2601554859387998,
           0.04050946191502903,
           -0.05515069205464463,
           0.08367625130688035,
           -0.046563690053657826,
           -0.10338857349421753,
           -0.017654133737073703,
           -0.01592319587243603,
           -0.020867245902978497,
           -0.03752891741603017,
           -0.04918147036619071,
           -0.0030795820955754082,
           -0.028866859164707746,
           -0.0012311387105265125,
           -0.015027803629114099,
           -0.08428413512659509
          ],
          [
           -0.38946901064249884,
           1,
           0.3614256277844778,
           0.2042150705320244,
           -0.06811751605697342,
           0.11549834073235805,
           0.08604895532223918,
           0.20047435924864343,
           0.2016965332920645,
           0.04032958116036883,
           0.10692113925484659,
           0.3307650187235917,
           0.42321700282930924,
           0.023249081625371343,
           0.005142447196922474,
           0.3483044112049407,
           0.10050189910629866,
           -0.023878549185264115,
           0.1637446416617716,
           0.034010293691150925,
           0.21207269147738506,
           0.00491050334150394,
           0.3205711560140065,
           0.2317311450967799,
           0.06927904411220123,
           0.2906312519337163,
           0.33801410130927173,
           0.104363962458879,
           0.15178871975894292,
           0.01103872135105831,
           0.02488222862971125,
           0.06935165938293388,
           0.16102517130845426,
           0.03516136721491894,
           0.010694538240366223,
           -0.007561612431718854,
           0.33454394077734473
          ],
          [
           -0.20173004897275565,
           0.3614256277844778,
           1,
           0.1005405680707286,
           -0.03561720066553458,
           0.024127823937152855,
           0.021612263265867532,
           0.12472828843842407,
           0.1940496263118654,
           0.0841071501546903,
           0.021400407320811502,
           0.25415038893640657,
           0.33246048933098593,
           0.03151470381458211,
           0.0005538314306470271,
           0.28451869721952655,
           0.1266713249560023,
           0.025837768693938928,
           0.12582647653904938,
           0.03424392930775692,
           0.13280133551814371,
           -0.020854221169353957,
           0.21380225617226462,
           0.2611847046998575,
           -0.009165424961065548,
           0.18041548651648423,
           0.21324900400408536,
           0.15804530969307234,
           0.10479723335040828,
           0.02097447964071423,
           0.01599505951292981,
           0.05437525760451086,
           0.09370788012697243,
           0.06902879218451353,
           0.004155624776117558,
           -0.024234468257043576,
           0.2638433538714051
          ],
          [
           0.033637968531283854,
           0.2042150705320244,
           0.1005405680707286,
           1,
           -0.09384734379737951,
           0.5975540926583818,
           0.5715323426202735,
           0.4265282637447184,
           0.28178374450086824,
           -0.04260519932417897,
           0.2751780433576455,
           0.5491568571509876,
           0.47915191104336313,
           0.2455961311477169,
           -0.048392751708790746,
           0.5751261488447705,
           0.16505978496833718,
           -0.04051890979011359,
           0.528482591725249,
           0.2726681118876803,
           0.07307528059555896,
           -0.1593246260730045,
           0.38976137902514324,
           0.3907533147115835,
           0.542217561081934,
           0.6005914341876857,
           0.565055669196508,
           0.2553167835456634,
           0.2980835060643591,
           -0.13925625062467062,
           0.018714807474515868,
           0.042909656081069156,
           0.030740453640978348,
           0.005562085390532734,
           0.03040496971515415,
           -0.019613768060774885,
           0.7909816005838053
          ],
          [
           -0.06562503782358062,
           -0.06811751605697342,
           -0.03561720066553458,
           -0.09384734379737951,
           1,
           -0.36847668849309945,
           0.04765401460905753,
           -0.1331180614776795,
           -0.05047366327865013,
           0.04135923401350886,
           -0.13825548134448193,
           -0.1740142154060316,
           -0.15741821325645775,
           0.005493696264080759,
           0.009048323049377765,
           -0.11656920561879855,
           -0.04282304501766509,
           0.0839105500040942,
           -0.21550402838375962,
           -0.08857701379766497,
           -0.00847713564796051,
           -0.08670001100426242,
           -0.09202748199326384,
           -0.03099893611508026,
           -0.3050346353640334,
           -0.1817386125941318,
           -0.1541403342278745,
           0.020123455993572206,
           -0.06897834183379405,
           0.07104410024732062,
           0.04373909271990425,
           0.043712545298474355,
           -0.016876326200656246,
           0.03395616661772224,
           -0.006256261599525816,
           0.030101689927626577,
           -0.07785589404867797
          ],
          [
           0.03440874365928456,
           0.11549834073235805,
           0.024127823937152855,
           0.5975540926583818,
           -0.36847668849309945,
           1,
           0.6122345697556552,
           0.3075195421861935,
           0.2795920239132579,
           -0.027507036478114786,
           0.1305173326114574,
           0.4085046974090262,
           0.3108136130909978,
           0.017587668433174643,
           -0.1441914021555436,
           0.24266585825430312,
           0.21184873830530757,
           -0.030170689565515618,
           0.4711689468845096,
           0.26974299864304224,
           -0.05310069218350785,
           -0.1376138334972933,
           0.1142803937383885,
           0.17068019249499905,
           0.7882528719992475,
           0.5376628328906146,
           0.48050713648057314,
           0.229426480897267,
           0.1985540340812662,
           -0.3740727727482379,
           0.015957710622863865,
           -0.0410459844452944,
           0.0023043458716878727,
           -0.010886326705593795,
           0.013937599977686756,
           -0.01234419463977724,
           0.5228973328794967
          ],
          [
           0.043314913552375725,
           0.08604895532223918,
           0.021612263265867532,
           0.5715323426202735,
           0.04765401460905753,
           0.6122345697556552,
           1,
           0.19166831467440526,
           0.1521455184966875,
           -0.06195897803367669,
           0.16521742637028752,
           0.2980475791252248,
           0.24224518177094084,
           0.15898526045571543,
           -0.060370853531044065,
           0.3169720155309654,
           0.13514959896484366,
           -0.04616743737603936,
           0.4579798714411808,
           0.21143016168455656,
           -0.021912057926202603,
           -0.14243092467696758,
           0.19824955143703304,
           0.13415697500891618,
           0.6263406290653959,
           0.42605257434721766,
           0.37674118229092435,
           0.2185132399843341,
           0.24218235438643074,
           -0.22045607659351718,
           0.037432761297421645,
           -0.04687843710272869,
           -0.011406898823004526,
           -0.003124315867912747,
           0.01769290062237936,
           0.03320328944124659,
           0.5071009671113866
          ],
          [
           0.006309136582548312,
           0.20047435924864343,
           0.12472828843842407,
           0.4265282637447184,
           -0.1331180614776795,
           0.3075195421861935,
           0.19166831467440526,
           1,
           0.30142745207689303,
           -0.014579833700162066,
           0.08799085470143125,
           0.3936616962740161,
           0.39236725070378503,
           0.11937677812226676,
           -0.057380322416192134,
           0.40008763113159723,
           0.14114140542087858,
           0.01620436422913537,
           0.2540854996891846,
           0.18768480895279657,
           0.07821281237565825,
           -0.05111789207617729,
           0.27710343450578656,
           0.27312890407552787,
           0.2404591045014467,
           0.35765877423174114,
           0.3709446119126113,
           0.166606080750145,
           0.140879744417661,
           -0.11061437397148358,
           0.014059010650100564,
           0.06639214503144626,
           0.004790858882772598,
           0.045155978589701405,
           -0.002215744321642184,
           -0.017653813520102916,
           0.4726144990045735
          ],
          [
           -0.0642542064029213,
           0.2016965332920645,
           0.1940496263118654,
           0.28178374450086824,
           -0.05047366327865013,
           0.2795920239132579,
           0.1521455184966875,
           0.30142745207689303,
           1,
           -0.05502821956308267,
           -0.47738690220729135,
           0.5364710266063503,
           0.45809113301032145,
           -0.1622403576465236,
           -0.06602199375562225,
           0.21168161171618405,
           0.638911332790927,
           0.07844323168804644,
           0.08156581478834109,
           -0.00726922999033417,
           -0.11346833316147786,
           -0.0863417873751588,
           0.05220421590288722,
           0.2930950165679165,
           0.18904375074039972,
           0.2555102493637573,
           0.31045381464226507,
           0.22351072462804564,
           0.12419063100895125,
           -0.0996898109766266,
           0.05091378133147519,
           0.09683669406932036,
           0.08446544161737823,
           0.0932997225078664,
           -0.0008969447697124462,
           0.022546803607808797,
           0.3864198062421535
          ],
          [
           -0.07243126038018519,
           0.04032958116036883,
           0.0841071501546903,
           -0.04260519932417897,
           0.04135923401350886,
           -0.027507036478114786,
           -0.06195897803367669,
           -0.014579833700162066,
           -0.05502821956308267,
           1,
           -0.23821454478711318,
           0.08942251926882169,
           0.08438941967097137,
           -0.09765351743701185,
           -0.004913179877990046,
           -0.01774712842388776,
           0.16295694744736466,
           0.09953007145845084,
           -0.0753135829551443,
           -0.032368352358903174,
           -0.031111303344083914,
           -0.03775759976891738,
           -0.048245449071953314,
           0.06570733545210355,
           -0.06839275321202802,
           -0.014752951677634437,
           0.003225163166894234,
           0.09846220380507126,
           -0.005804507824715141,
           0.032774526738971375,
           -0.02326796734009369,
           0.06332907874186097,
           0.04452989098057487,
           -0.005129682311675816,
           -0.009509599719976282,
           0.008866934716814275,
           -0.011378121450215146
          ],
          [
           -0.12591300524001312,
           0.10692113925484659,
           0.021400407320811502,
           0.2751780433576455,
           -0.13825548134448193,
           0.1305173326114574,
           0.16521742637028752,
           0.08799085470143125,
           -0.47738690220729135,
           -0.23821454478711318,
           1,
           0.4122905894769467,
           0.2966234409768032,
           -0.00031820543931547745,
           0.04691986635063113,
           0.23401652599219674,
           -0.39805361829575503,
           -0.10696025165110595,
           0.273230512138615,
           -0.03574412432669569,
           0.18329968934007965,
           0.06500147732882805,
           0.24751366041743345,
           0.004880885104985484,
           0.16717962415084317,
           0.18006747470865042,
           0.16443518284250283,
           -0.03924392819811804,
           0.1198038761968965,
           0.005032012870019905,
           -0.005802861249335756,
           -0.04913594666829456,
           -0.03226817897839284,
           -0.010485620727895467,
           0.022663816564985145,
           -0.038025846111677385,
           0.21447910554696928
          ],
          [
           -0.2198931151663449,
           0.3307650187235917,
           0.25415038893640657,
           0.5491568571509876,
           -0.1740142154060316,
           0.4085046974090262,
           0.2980475791252248,
           0.3936616962740161,
           0.5364710266063503,
           0.08942251926882169,
           0.4122905894769467,
           1,
           0.8016377464888657,
           -0.2056045330169553,
           -0.023353947232200488,
           0.4452233488427884,
           0.32593877375950686,
           0.01260026490834763,
           0.3277513239938397,
           -0.05567576620194847,
           0.05343344236657839,
           -0.03894810428653594,
           0.28208243075276523,
           0.33294780384553113,
           0.3357169306425314,
           0.4379004813024512,
           0.4860205554652763,
           0.22961367540262792,
           0.24553298733136414,
           -0.08549040022103031,
           0.03789696161883281,
           0.07537570301886361,
           0.07221862029981811,
           0.08400549436878611,
           0.017925592127745978,
           -0.011191516973050411,
           0.6135805515591943
          ],
          [
           -0.2486414762389263,
           0.42321700282930924,
           0.33246048933098593,
           0.47915191104336313,
           -0.15741821325645775,
           0.3108136130909978,
           0.24224518177094084,
           0.39236725070378503,
           0.45809113301032145,
           0.08438941967097137,
           0.2966234409768032,
           0.8016377464888657,
           1,
           -0.24982325229716315,
           -0.01270380694558721,
           0.5625382522753404,
           0.2579495903908098,
           0.010461872292632127,
           0.3730769122474423,
           -0.1041412386816182,
           0.10841816835665483,
           0.07607053953945386,
           0.3917823790432642,
           0.4075449207089372,
           0.2529633384488532,
           0.44045155563426,
           0.49197890563300095,
           0.2273466410261613,
           0.23850150195786335,
           -0.06579615162065787,
           0.044085938422584604,
           0.09838082548744657,
           0.12190043001656886,
           0.09306181549659327,
           0.04014271646407884,
           -0.013441918207050867,
           0.6058521846919153
          ],
          [
           0.3093091069151055,
           0.023249081625371343,
           0.03151470381458211,
           0.2455961311477169,
           0.005493696264080759,
           0.017587668433174643,
           0.15898526045571543,
           0.11937677812226676,
           -0.1622403576465236,
           -0.09765351743701185,
           -0.00031820543931547745,
           -0.2056045330169553,
           -0.24982325229716315,
           1,
           0.017803133508385457,
           0.6550846935436292,
           -0.16095603557919225,
           -0.06013337427517797,
           0.40286529936219734,
           0.6113620053965505,
           0.5035058542509898,
           0.0690324186592292,
           0.5845858776773504,
           0.16999125494502892,
           0.0838497844782299,
           0.1825322324694296,
           0.1285481903824004,
           0.08992229362937772,
           0.18538710979335543,
           0.05464549274429809,
           -0.03245815932049168,
           0.011070418582606736,
           0.044503483856710525,
           -0.005298818251119258,
           0.01418481915171816,
           -0.0192286882489576,
           0.31933380283206736
          ],
          [
           0.02648179258605353,
           0.005142447196922474,
           0.0005538314306470271,
           -0.048392751708790746,
           0.009048323049377765,
           -0.1441914021555436,
           -0.060370853531044065,
           -0.057380322416192134,
           -0.06602199375562225,
           -0.004913179877990046,
           0.04691986635063113,
           -0.023353947232200488,
           -0.01270380694558721,
           0.017803133508385457,
           1,
           0.09691623431528924,
           -0.047031092434604065,
           -0.013481964985952284,
           -0.0028764266999645577,
           -0.03950841437126726,
           0.07036493202613169,
           0.00043829422798683263,
           0.1020594432617101,
           -0.006634521716401359,
           -0.044740193840989394,
           -0.06734520602163264,
           -0.0535520762027643,
           -0.015622012392342358,
           -0.0006919798070500848,
           0.08721200350471023,
           -0.0045449326539334835,
           0.006835353852734233,
           0.03517681276917629,
           -0.005973425173149056,
           0.011528178912651857,
           -0.002257392491873646,
           -0.02560613000067955
          ],
          [
           0.07167745094705508,
           0.3483044112049407,
           0.28451869721952655,
           0.5751261488447705,
           -0.11656920561879855,
           0.24266585825430312,
           0.3169720155309654,
           0.40008763113159723,
           0.21168161171618405,
           -0.01774712842388776,
           0.23401652599219674,
           0.4452233488427884,
           0.5625382522753404,
           0.6550846935436292,
           0.09691623431528924,
           1,
           0.059332863150552514,
           -0.044066589124183465,
           0.6302856579751004,
           0.4335484450153121,
           0.5170576810548312,
           0.11750164219622028,
           0.8083544205418535,
           0.4593861669932188,
           0.26306425866055233,
           0.4899579209354454,
           0.4854411792705815,
           0.25101658868437954,
           0.3419073330238061,
           0.003274467066450013,
           0.006267983997135233,
           0.08628368399427089,
           0.13544069810136247,
           0.06711806772078756,
           0.044197919165540146,
           -0.02691863120081338,
           0.7086244776126515
          ],
          [
           0.010435577295845528,
           0.10050189910629866,
           0.1266713249560023,
           0.16505978496833718,
           -0.04282304501766509,
           0.21184873830530757,
           0.13514959896484366,
           0.14114140542087858,
           0.638911332790927,
           0.16295694744736466,
           -0.39805361829575503,
           0.32593877375950686,
           0.2579495903908098,
           -0.16095603557919225,
           -0.047031092434604065,
           0.059332863150552514,
           1,
           -0.14865481179498963,
           -0.01922449019967584,
           -0.033582426120041746,
           -0.15539189566550635,
           -0.017810341214136223,
           -0.03921030378347005,
           0.16902945434625888,
           0.144960832375912,
           0.1617307338741611,
           0.18467877711038783,
           0.18644531666191208,
           0.0797666876152831,
           -0.06817212339193213,
           0.027429355980304347,
           0.053265381959891625,
           0.0439957779437346,
           -0.004577853827904874,
           -0.003419058763910366,
           0.04515531436726507,
           0.22712223313149427
          ],
          [
           -0.001727884750491527,
           -0.023878549185264115,
           0.025837768693938928,
           -0.04051890979011359,
           0.0839105500040942,
           -0.030170689565515618,
           -0.04616743737603936,
           0.01620436422913537,
           0.07844323168804644,
           0.09953007145845084,
           -0.10696025165110595,
           0.01260026490834763,
           0.010461872292632127,
           -0.06013337427517797,
           -0.013481964985952284,
           -0.044066589124183465,
           -0.14865481179498963,
           1,
           -0.047116556468961984,
           -0.058456795979924175,
           0.01868948738253317,
           -0.06487841020421858,
           -0.04963141756849243,
           0.03911953940267552,
           -0.056104423943568675,
           -0.033420352664381245,
           -0.021426125562805445,
           0.051664772186420536,
           -0.035125529588855196,
           -0.009612779656942115,
           0.026877708439110897,
           0.04211545601218545,
           0.06686004572897347,
           0.036916813287502,
           0.023055549721578018,
           -0.020054843372710872,
           -0.01684415429735895
          ],
          [
           0.13913961291454802,
           0.1637446416617716,
           0.12582647653904938,
           0.528482591725249,
           -0.21550402838375962,
           0.4711689468845096,
           0.4579798714411808,
           0.2540854996891846,
           0.08156581478834109,
           -0.0753135829551443,
           0.273230512138615,
           0.3277513239938397,
           0.3730769122474423,
           0.40286529936219734,
           -0.0028764266999645577,
           0.6302856579751004,
           -0.01922449019967584,
           -0.047116556468961984,
           1,
           0.15838609479972338,
           0.3561253763027115,
           0.17095779950715795,
           0.5273369933378188,
           0.23592749094064444,
           0.4796491199505821,
           0.48001233080224,
           0.40845297393000624,
           0.1812662525298119,
           0.26042318647845164,
           -0.11898275622033971,
           0.01519216769465617,
           -0.01591024559376682,
           0.028090849400116594,
           -0.01002408972307185,
           0.04627438596908629,
           -0.004881911931019212,
           0.5606637627484453
          ],
          [
           0.17875018530614814,
           0.034010293691150925,
           0.03424392930775692,
           0.2726681118876803,
           -0.08857701379766497,
           0.26974299864304224,
           0.21143016168455656,
           0.18768480895279657,
           -0.00726922999033417,
           -0.032368352358903174,
           -0.03574412432669569,
           -0.05567576620194847,
           -0.1041412386816182,
           0.6113620053965505,
           -0.03950841437126726,
           0.4335484450153121,
           -0.033582426120041746,
           -0.058456795979924175,
           0.15838609479972338,
           1,
           0.2453183601503426,
           -0.04269101177409987,
           0.34557150445390494,
           0.20587572239821292,
           0.21874914414237256,
           0.23443502324989637,
           0.17896647110336028,
           0.11670146703101787,
           0.1820476379964722,
           -0.08197815962362814,
           -0.023417092430001372,
           0.03562174744118794,
           0.0014236572737663187,
           0.02655336026424889,
           -0.0011362145532172324,
           0.001586723453882869,
           0.28410767559478256
          ],
          [
           -0.008796151524740918,
           0.21207269147738506,
           0.13280133551814371,
           0.07307528059555896,
           -0.00847713564796051,
           -0.05310069218350785,
           -0.021912057926202603,
           0.07821281237565825,
           -0.11346833316147786,
           -0.031111303344083914,
           0.18329968934007965,
           0.05343344236657839,
           0.10841816835665483,
           0.5035058542509898,
           0.07036493202613169,
           0.5170576810548312,
           -0.15539189566550635,
           0.01868948738253317,
           0.3561253763027115,
           0.2453183601503426,
           1,
           0.2411822292051305,
           0.6697372307298517,
           0.0867932597042898,
           -0.04231203128304569,
           0.09289170376626722,
           0.07391372030763721,
           0.03164399191374859,
           0.08621231670653134,
           0.049940470364573886,
           -0.04827870717148934,
           0.007254292581000403,
           0.03654399979726849,
           0.0002452029093050278,
           0.05599713933835034,
           -0.020452571723233216,
           0.16821315430073963
          ],
          [
           0.2601554859387998,
           0.00491050334150394,
           -0.020854221169353957,
           -0.1593246260730045,
           -0.08670001100426242,
           -0.1376138334972933,
           -0.14243092467696758,
           -0.05111789207617729,
           -0.0863417873751588,
           -0.03775759976891738,
           0.06500147732882805,
           -0.03894810428653594,
           0.07607053953945386,
           0.0690324186592292,
           0.00043829422798683263,
           0.11750164219622028,
           -0.017810341214136223,
           -0.06487841020421858,
           0.17095779950715795,
           -0.04269101177409987,
           0.2411822292051305,
           1,
           0.2945694072380799,
           -0.10789200790464709,
           -0.07781531379856446,
           -0.03708131077553713,
           -0.05785376728103745,
           -0.08739892871143569,
           -0.06818090499106541,
           0.027639455321789137,
           -0.02146159362973387,
           -0.05657267339282719,
           -0.013116194695606336,
           0.025077770861016136,
           0.035492845257563264,
           0.03517315032277878,
           -0.13590737084214105
          ],
          [
           0.04050946191502903,
           0.3205711560140065,
           0.21380225617226462,
           0.38976137902514324,
           -0.09202748199326384,
           0.1142803937383885,
           0.19824955143703304,
           0.27710343450578656,
           0.05220421590288722,
           -0.048245449071953314,
           0.24751366041743345,
           0.28208243075276523,
           0.3917823790432642,
           0.5845858776773504,
           0.1020594432617101,
           0.8083544205418535,
           -0.03921030378347005,
           -0.04963141756849243,
           0.5273369933378188,
           0.34557150445390494,
           0.6697372307298517,
           0.2945694072380799,
           1,
           0.3112602044822691,
           0.1546031464319268,
           0.35801226745905673,
           0.32867910452354915,
           0.1565429763652552,
           0.23815596660162633,
           0.015344538774768745,
           -0.025763620661384115,
           0.03232427500817053,
           0.0720612487955662,
           0.06090326261003983,
           0.045137286066146615,
           -0.032353664049055764,
           0.5337231555820284
          ],
          [
           -0.05515069205464463,
           0.2317311450967799,
           0.2611847046998575,
           0.3907533147115835,
           -0.03099893611508026,
           0.17068019249499905,
           0.13415697500891618,
           0.27312890407552787,
           0.2930950165679165,
           0.06570733545210355,
           0.004880885104985484,
           0.33294780384553113,
           0.4075449207089372,
           0.16999125494502892,
           -0.006634521716401359,
           0.4593861669932188,
           0.16902945434625888,
           0.03911953940267552,
           0.23592749094064444,
           0.20587572239821292,
           0.0867932597042898,
           -0.10789200790464709,
           0.3112602044822691,
           1,
           0.08595406432334873,
           0.32153301849154325,
           0.2947129285044995,
           0.22760792105165728,
           0.15862124307606695,
           0.0009711000142323867,
           0.01885156132991988,
           0.16978449193497314,
           0.09912278562713266,
           0.008534755325864764,
           0.03235172404595886,
           -0.006752472057803096,
           0.46692883675152763
          ],
          [
           0.08367625130688035,
           0.06927904411220123,
           -0.009165424961065548,
           0.542217561081934,
           -0.3050346353640334,
           0.7882528719992475,
           0.6263406290653959,
           0.2404591045014467,
           0.18904375074039972,
           -0.06839275321202802,
           0.16717962415084317,
           0.3357169306425314,
           0.2529633384488532,
           0.0838497844782299,
           -0.044740193840989394,
           0.26306425866055233,
           0.144960832375912,
           -0.056104423943568675,
           0.4796491199505821,
           0.21874914414237256,
           -0.04231203128304569,
           -0.07781531379856446,
           0.1546031464319268,
           0.08595406432334873,
           1,
           0.48494748190610215,
           0.46927101097243684,
           0.21811139745374536,
           0.2204297543282778,
           -0.2892702865803162,
           0.02040834723412894,
           -0.06250993084495951,
           -0.014587995824786785,
           -0.009061015973411298,
           0.023144188553137598,
           -0.004329927485003992,
           0.4690560752611331
          ],
          [
           -0.046563690053657826,
           0.2906312519337163,
           0.18041548651648423,
           0.6005914341876857,
           -0.1817386125941318,
           0.5376628328906146,
           0.42605257434721766,
           0.35765877423174114,
           0.2555102493637573,
           -0.014752951677634437,
           0.18006747470865042,
           0.4379004813024512,
           0.44045155563426,
           0.1825322324694296,
           -0.06734520602163264,
           0.4899579209354454,
           0.1617307338741611,
           -0.033420352664381245,
           0.48001233080224,
           0.23443502324989637,
           0.09289170376626722,
           -0.03708131077553713,
           0.35801226745905673,
           0.32153301849154325,
           0.48494748190610215,
           1,
           0.8896894076828877,
           0.2407612564692336,
           0.2034494342654462,
           -0.1323384504344228,
           0.02337216243067833,
           0.04308080897051744,
           0.03041687238214528,
           -0.016942691204308608,
           0.050744621098741484,
           -0.02297984449327609,
           0.6404091972583519
          ],
          [
           -0.10338857349421753,
           0.33801410130927173,
           0.21324900400408536,
           0.565055669196508,
           -0.1541403342278745,
           0.48050713648057314,
           0.37674118229092435,
           0.3709446119126113,
           0.31045381464226507,
           0.003225163166894234,
           0.16443518284250283,
           0.4860205554652763,
           0.49197890563300095,
           0.1285481903824004,
           -0.0535520762027643,
           0.4854411792705815,
           0.18467877711038783,
           -0.021426125562805445,
           0.40845297393000624,
           0.17896647110336028,
           0.07391372030763721,
           -0.05785376728103745,
           0.32867910452354915,
           0.2947129285044995,
           0.46927101097243684,
           0.8896894076828877,
           1,
           0.23806556656029562,
           0.23253127092876796,
           -0.10622587898479692,
           0.029438542040549714,
           0.062385337192191866,
           0.053048598190676685,
           0.00844474343927917,
           0.04031165005341822,
           -0.013457379080109758,
           0.6234314389183622
          ],
          [
           -0.017654133737073703,
           0.104363962458879,
           0.15804530969307234,
           0.2553167835456634,
           0.020123455993572206,
           0.229426480897267,
           0.2185132399843341,
           0.166606080750145,
           0.22351072462804564,
           0.09846220380507126,
           -0.03924392819811804,
           0.22961367540262792,
           0.2273466410261613,
           0.08992229362937772,
           -0.015622012392342358,
           0.25101658868437954,
           0.18644531666191208,
           0.051664772186420536,
           0.1812662525298119,
           0.11670146703101787,
           0.03164399191374859,
           -0.08739892871143569,
           0.1565429763652552,
           0.22760792105165728,
           0.21811139745374536,
           0.2407612564692336,
           0.23806556656029562,
           1,
           0.038457065325678476,
           -0.11911406624126053,
           -0.003935215859959983,
           -0.05213396330491434,
           0.09423146610435218,
           0.05688332546259696,
           0.01811976363347715,
           -0.00018033613980710544,
           0.32441344456812926
          ],
          [
           -0.01592319587243603,
           0.15178871975894292,
           0.10479723335040828,
           0.2980835060643591,
           -0.06897834183379405,
           0.1985540340812662,
           0.24218235438643074,
           0.140879744417661,
           0.12419063100895125,
           -0.005804507824715141,
           0.1198038761968965,
           0.24553298733136414,
           0.23850150195786335,
           0.18538710979335543,
           -0.0006919798070500848,
           0.3419073330238061,
           0.0797666876152831,
           -0.035125529588855196,
           0.26042318647845164,
           0.1820476379964722,
           0.08621231670653134,
           -0.06818090499106541,
           0.23815596660162633,
           0.15862124307606695,
           0.2204297543282778,
           0.2034494342654462,
           0.23253127092876796,
           0.038457065325678476,
           1,
           -0.05967196956568412,
           -0.009391843770959942,
           0.047777352239574196,
           0.06421205277639187,
           0.07735746032649916,
           0.03416742952429228,
           -0.03737675115089286,
           0.31585622711605504
          ],
          [
           -0.020867245902978497,
           0.01103872135105831,
           0.02097447964071423,
           -0.13925625062467062,
           0.07104410024732062,
           -0.3740727727482379,
           -0.22045607659351718,
           -0.11061437397148358,
           -0.0996898109766266,
           0.032774526738971375,
           0.005032012870019905,
           -0.08549040022103031,
           -0.06579615162065787,
           0.05464549274429809,
           0.08721200350471023,
           0.003274467066450013,
           -0.06817212339193213,
           -0.009612779656942115,
           -0.11898275622033971,
           -0.08197815962362814,
           0.049940470364573886,
           0.027639455321789137,
           0.015344538774768745,
           0.0009711000142323867,
           -0.2892702865803162,
           -0.1323384504344228,
           -0.10622587898479692,
           -0.11911406624126053,
           -0.05967196956568412,
           1,
           -0.032822186921755245,
           -0.0643766799479088,
           0.09253419134947109,
           0.008653832905135708,
           -0.020976014694844614,
           -0.001133894074984009,
           -0.1285779579259566
          ],
          [
           -0.03752891741603017,
           0.02488222862971125,
           0.01599505951292981,
           0.018714807474515868,
           0.04373909271990425,
           0.015957710622863865,
           0.037432761297421645,
           0.014059010650100564,
           0.05091378133147519,
           -0.02326796734009369,
           -0.005802861249335756,
           0.03789696161883281,
           0.044085938422584604,
           -0.03245815932049168,
           -0.0045449326539334835,
           0.006267983997135233,
           0.027429355980304347,
           0.026877708439110897,
           0.01519216769465617,
           -0.023417092430001372,
           -0.04827870717148934,
           -0.02146159362973387,
           -0.025763620661384115,
           0.01885156132991988,
           0.02040834723412894,
           0.02337216243067833,
           0.029438542040549714,
           -0.003935215859959983,
           -0.009391843770959942,
           -0.032822186921755245,
           1,
           -0.029545862666802196,
           -0.006525340947946737,
           -0.0007882796488423149,
           0.027390996280268635,
           0.022559728560919944,
           0.04458366533574838
          ],
          [
           -0.04918147036619071,
           0.06935165938293388,
           0.05437525760451086,
           0.042909656081069156,
           0.043712545298474355,
           -0.0410459844452944,
           -0.04687843710272869,
           0.06639214503144626,
           0.09683669406932036,
           0.06332907874186097,
           -0.04913594666829456,
           0.07537570301886361,
           0.09838082548744657,
           0.011070418582606736,
           0.006835353852734233,
           0.08628368399427089,
           0.053265381959891625,
           0.04211545601218545,
           -0.01591024559376682,
           0.03562174744118794,
           0.007254292581000403,
           -0.05657267339282719,
           0.03232427500817053,
           0.16978449193497314,
           -0.06250993084495951,
           0.04308080897051744,
           0.062385337192191866,
           -0.05213396330491434,
           0.047777352239574196,
           -0.0643766799479088,
           -0.029545862666802196,
           1,
           0.026319003388938236,
           0.007067300378548214,
           0.028535053611185645,
           -0.006634462176731609,
           0.11144657114291112
          ],
          [
           -0.0030795820955754082,
           0.16102517130845426,
           0.09370788012697243,
           0.030740453640978348,
           -0.016876326200656246,
           0.0023043458716878727,
           -0.011406898823004526,
           0.004790858882772598,
           0.08446544161737823,
           0.04452989098057487,
           -0.03226817897839284,
           0.07221862029981811,
           0.12190043001656886,
           0.044503483856710525,
           0.03517681276917629,
           0.13544069810136247,
           0.0439957779437346,
           0.06686004572897347,
           0.028090849400116594,
           0.0014236572737663187,
           0.03654399979726849,
           -0.013116194695606336,
           0.0720612487955662,
           0.09912278562713266,
           -0.014587995824786785,
           0.03041687238214528,
           0.053048598190676685,
           0.09423146610435218,
           0.06421205277639187,
           0.09253419134947109,
           -0.006525340947946737,
           0.026319003388938236,
           1,
           0.011921150320180028,
           -0.0422295603552136,
           -0.05281643957500474,
           0.09240354949187318
          ],
          [
           -0.028866859164707746,
           0.03516136721491894,
           0.06902879218451353,
           0.005562085390532734,
           0.03395616661772224,
           -0.010886326705593795,
           -0.003124315867912747,
           0.045155978589701405,
           0.0932997225078664,
           -0.005129682311675816,
           -0.010485620727895467,
           0.08400549436878611,
           0.09306181549659327,
           -0.005298818251119258,
           -0.005973425173149056,
           0.06711806772078756,
           -0.004577853827904874,
           0.036916813287502,
           -0.01002408972307185,
           0.02655336026424889,
           0.0002452029093050278,
           0.025077770861016136,
           0.06090326261003983,
           0.008534755325864764,
           -0.009061015973411298,
           -0.016942691204308608,
           0.00844474343927917,
           0.05688332546259696,
           0.07735746032649916,
           0.008653832905135708,
           -0.0007882796488423149,
           0.007067300378548214,
           0.011921150320180028,
           1,
           0.007443362991139382,
           0.008444813876583333,
           -0.021189579640303213
          ],
          [
           -0.0012311387105265125,
           0.010694538240366223,
           0.004155624776117558,
           0.03040496971515415,
           -0.006256261599525816,
           0.013937599977686756,
           0.01769290062237936,
           -0.002215744321642184,
           -0.0008969447697124462,
           -0.009509599719976282,
           0.022663816564985145,
           0.017925592127745978,
           0.04014271646407884,
           0.01418481915171816,
           0.011528178912651857,
           0.044197919165540146,
           -0.003419058763910366,
           0.023055549721578018,
           0.04627438596908629,
           -0.0011362145532172324,
           0.05599713933835034,
           0.035492845257563264,
           0.045137286066146615,
           0.03235172404595886,
           0.023144188553137598,
           0.050744621098741484,
           0.04031165005341822,
           0.01811976363347715,
           0.03416742952429228,
           -0.020976014694844614,
           0.027390996280268635,
           0.028535053611185645,
           -0.0422295603552136,
           0.007443362991139382,
           1,
           -0.15389512137043027,
           0.046432245223819446
          ],
          [
           -0.015027803629114099,
           -0.007561612431718854,
           -0.024234468257043576,
           -0.019613768060774885,
           0.030101689927626577,
           -0.01234419463977724,
           0.03320328944124659,
           -0.017653813520102916,
           0.022546803607808797,
           0.008866934716814275,
           -0.038025846111677385,
           -0.011191516973050411,
           -0.013441918207050867,
           -0.0192286882489576,
           -0.002257392491873646,
           -0.02691863120081338,
           0.04515531436726507,
           -0.020054843372710872,
           -0.004881911931019212,
           0.001586723453882869,
           -0.020452571723233216,
           0.03517315032277878,
           -0.032353664049055764,
           -0.006752472057803096,
           -0.004329927485003992,
           -0.02297984449327609,
           -0.013457379080109758,
           -0.00018033613980710544,
           -0.03737675115089286,
           -0.001133894074984009,
           0.022559728560919944,
           -0.006634462176731609,
           -0.05281643957500474,
           0.008444813876583333,
           -0.15389512137043027,
           1,
           -0.028922585168736813
          ],
          [
           -0.08428413512659509,
           0.33454394077734473,
           0.2638433538714051,
           0.7909816005838053,
           -0.07785589404867797,
           0.5228973328794967,
           0.5071009671113866,
           0.4726144990045735,
           0.3864198062421535,
           -0.011378121450215146,
           0.21447910554696928,
           0.6135805515591943,
           0.6058521846919153,
           0.31933380283206736,
           -0.02560613000067955,
           0.7086244776126515,
           0.22712223313149427,
           -0.01684415429735895,
           0.5606637627484453,
           0.28410767559478256,
           0.16821315430073963,
           -0.13590737084214105,
           0.5337231555820284,
           0.46692883675152763,
           0.4690560752611331,
           0.6404091972583519,
           0.6234314389183622,
           0.32441344456812926,
           0.31585622711605504,
           -0.1285779579259566,
           0.04458366533574838,
           0.11144657114291112,
           0.09240354949187318,
           -0.021189579640303213,
           0.046432245223819446,
           -0.028922585168736813,
           1
          ]
         ]
        }
       ],
       "layout": {
        "coloraxis": {
         "colorscale": [
          [
           0,
           "rgb(211, 242, 163)"
          ],
          [
           0.16666666666666666,
           "rgb(151, 225, 150)"
          ],
          [
           0.3333333333333333,
           "rgb(108, 192, 139)"
          ],
          [
           0.5,
           "rgb(76, 155, 130)"
          ],
          [
           0.6666666666666666,
           "rgb(33, 122, 121)"
          ],
          [
           0.8333333333333334,
           "rgb(16, 89, 101)"
          ],
          [
           1,
           "rgb(7, 64, 80)"
          ]
         ]
        },
        "height": 1000,
        "margin": {
         "t": 60
        },
        "template": {
         "data": {
          "bar": [
           {
            "error_x": {
             "color": "#2a3f5f"
            },
            "error_y": {
             "color": "#2a3f5f"
            },
            "marker": {
             "line": {
              "color": "#E5ECF6",
              "width": 0.5
             },
             "pattern": {
              "fillmode": "overlay",
              "size": 10,
              "solidity": 0.2
             }
            },
            "type": "bar"
           }
          ],
          "barpolar": [
           {
            "marker": {
             "line": {
              "color": "#E5ECF6",
              "width": 0.5
             },
             "pattern": {
              "fillmode": "overlay",
              "size": 10,
              "solidity": 0.2
             }
            },
            "type": "barpolar"
           }
          ],
          "carpet": [
           {
            "aaxis": {
             "endlinecolor": "#2a3f5f",
             "gridcolor": "white",
             "linecolor": "white",
             "minorgridcolor": "white",
             "startlinecolor": "#2a3f5f"
            },
            "baxis": {
             "endlinecolor": "#2a3f5f",
             "gridcolor": "white",
             "linecolor": "white",
             "minorgridcolor": "white",
             "startlinecolor": "#2a3f5f"
            },
            "type": "carpet"
           }
          ],
          "choropleth": [
           {
            "colorbar": {
             "outlinewidth": 0,
             "ticks": ""
            },
            "type": "choropleth"
           }
          ],
          "contour": [
           {
            "colorbar": {
             "outlinewidth": 0,
             "ticks": ""
            },
            "colorscale": [
             [
              0,
              "#0d0887"
             ],
             [
              0.1111111111111111,
              "#46039f"
             ],
             [
              0.2222222222222222,
              "#7201a8"
             ],
             [
              0.3333333333333333,
              "#9c179e"
             ],
             [
              0.4444444444444444,
              "#bd3786"
             ],
             [
              0.5555555555555556,
              "#d8576b"
             ],
             [
              0.6666666666666666,
              "#ed7953"
             ],
             [
              0.7777777777777778,
              "#fb9f3a"
             ],
             [
              0.8888888888888888,
              "#fdca26"
             ],
             [
              1,
              "#f0f921"
             ]
            ],
            "type": "contour"
           }
          ],
          "contourcarpet": [
           {
            "colorbar": {
             "outlinewidth": 0,
             "ticks": ""
            },
            "type": "contourcarpet"
           }
          ],
          "heatmap": [
           {
            "colorbar": {
             "outlinewidth": 0,
             "ticks": ""
            },
            "colorscale": [
             [
              0,
              "#0d0887"
             ],
             [
              0.1111111111111111,
              "#46039f"
             ],
             [
              0.2222222222222222,
              "#7201a8"
             ],
             [
              0.3333333333333333,
              "#9c179e"
             ],
             [
              0.4444444444444444,
              "#bd3786"
             ],
             [
              0.5555555555555556,
              "#d8576b"
             ],
             [
              0.6666666666666666,
              "#ed7953"
             ],
             [
              0.7777777777777778,
              "#fb9f3a"
             ],
             [
              0.8888888888888888,
              "#fdca26"
             ],
             [
              1,
              "#f0f921"
             ]
            ],
            "type": "heatmap"
           }
          ],
          "heatmapgl": [
           {
            "colorbar": {
             "outlinewidth": 0,
             "ticks": ""
            },
            "colorscale": [
             [
              0,
              "#0d0887"
             ],
             [
              0.1111111111111111,
              "#46039f"
             ],
             [
              0.2222222222222222,
              "#7201a8"
             ],
             [
              0.3333333333333333,
              "#9c179e"
             ],
             [
              0.4444444444444444,
              "#bd3786"
             ],
             [
              0.5555555555555556,
              "#d8576b"
             ],
             [
              0.6666666666666666,
              "#ed7953"
             ],
             [
              0.7777777777777778,
              "#fb9f3a"
             ],
             [
              0.8888888888888888,
              "#fdca26"
             ],
             [
              1,
              "#f0f921"
             ]
            ],
            "type": "heatmapgl"
           }
          ],
          "histogram": [
           {
            "marker": {
             "pattern": {
              "fillmode": "overlay",
              "size": 10,
              "solidity": 0.2
             }
            },
            "type": "histogram"
           }
          ],
          "histogram2d": [
           {
            "colorbar": {
             "outlinewidth": 0,
             "ticks": ""
            },
            "colorscale": [
             [
              0,
              "#0d0887"
             ],
             [
              0.1111111111111111,
              "#46039f"
             ],
             [
              0.2222222222222222,
              "#7201a8"
             ],
             [
              0.3333333333333333,
              "#9c179e"
             ],
             [
              0.4444444444444444,
              "#bd3786"
             ],
             [
              0.5555555555555556,
              "#d8576b"
             ],
             [
              0.6666666666666666,
              "#ed7953"
             ],
             [
              0.7777777777777778,
              "#fb9f3a"
             ],
             [
              0.8888888888888888,
              "#fdca26"
             ],
             [
              1,
              "#f0f921"
             ]
            ],
            "type": "histogram2d"
           }
          ],
          "histogram2dcontour": [
           {
            "colorbar": {
             "outlinewidth": 0,
             "ticks": ""
            },
            "colorscale": [
             [
              0,
              "#0d0887"
             ],
             [
              0.1111111111111111,
              "#46039f"
             ],
             [
              0.2222222222222222,
              "#7201a8"
             ],
             [
              0.3333333333333333,
              "#9c179e"
             ],
             [
              0.4444444444444444,
              "#bd3786"
             ],
             [
              0.5555555555555556,
              "#d8576b"
             ],
             [
              0.6666666666666666,
              "#ed7953"
             ],
             [
              0.7777777777777778,
              "#fb9f3a"
             ],
             [
              0.8888888888888888,
              "#fdca26"
             ],
             [
              1,
              "#f0f921"
             ]
            ],
            "type": "histogram2dcontour"
           }
          ],
          "mesh3d": [
           {
            "colorbar": {
             "outlinewidth": 0,
             "ticks": ""
            },
            "type": "mesh3d"
           }
          ],
          "parcoords": [
           {
            "line": {
             "colorbar": {
              "outlinewidth": 0,
              "ticks": ""
             }
            },
            "type": "parcoords"
           }
          ],
          "pie": [
           {
            "automargin": true,
            "type": "pie"
           }
          ],
          "scatter": [
           {
            "fillpattern": {
             "fillmode": "overlay",
             "size": 10,
             "solidity": 0.2
            },
            "type": "scatter"
           }
          ],
          "scatter3d": [
           {
            "line": {
             "colorbar": {
              "outlinewidth": 0,
              "ticks": ""
             }
            },
            "marker": {
             "colorbar": {
              "outlinewidth": 0,
              "ticks": ""
             }
            },
            "type": "scatter3d"
           }
          ],
          "scattercarpet": [
           {
            "marker": {
             "colorbar": {
              "outlinewidth": 0,
              "ticks": ""
             }
            },
            "type": "scattercarpet"
           }
          ],
          "scattergeo": [
           {
            "marker": {
             "colorbar": {
              "outlinewidth": 0,
              "ticks": ""
             }
            },
            "type": "scattergeo"
           }
          ],
          "scattergl": [
           {
            "marker": {
             "colorbar": {
              "outlinewidth": 0,
              "ticks": ""
             }
            },
            "type": "scattergl"
           }
          ],
          "scattermapbox": [
           {
            "marker": {
             "colorbar": {
              "outlinewidth": 0,
              "ticks": ""
             }
            },
            "type": "scattermapbox"
           }
          ],
          "scatterpolar": [
           {
            "marker": {
             "colorbar": {
              "outlinewidth": 0,
              "ticks": ""
             }
            },
            "type": "scatterpolar"
           }
          ],
          "scatterpolargl": [
           {
            "marker": {
             "colorbar": {
              "outlinewidth": 0,
              "ticks": ""
             }
            },
            "type": "scatterpolargl"
           }
          ],
          "scatterternary": [
           {
            "marker": {
             "colorbar": {
              "outlinewidth": 0,
              "ticks": ""
             }
            },
            "type": "scatterternary"
           }
          ],
          "surface": [
           {
            "colorbar": {
             "outlinewidth": 0,
             "ticks": ""
            },
            "colorscale": [
             [
              0,
              "#0d0887"
             ],
             [
              0.1111111111111111,
              "#46039f"
             ],
             [
              0.2222222222222222,
              "#7201a8"
             ],
             [
              0.3333333333333333,
              "#9c179e"
             ],
             [
              0.4444444444444444,
              "#bd3786"
             ],
             [
              0.5555555555555556,
              "#d8576b"
             ],
             [
              0.6666666666666666,
              "#ed7953"
             ],
             [
              0.7777777777777778,
              "#fb9f3a"
             ],
             [
              0.8888888888888888,
              "#fdca26"
             ],
             [
              1,
              "#f0f921"
             ]
            ],
            "type": "surface"
           }
          ],
          "table": [
           {
            "cells": {
             "fill": {
              "color": "#EBF0F8"
             },
             "line": {
              "color": "white"
             }
            },
            "header": {
             "fill": {
              "color": "#C8D4E3"
             },
             "line": {
              "color": "white"
             }
            },
            "type": "table"
           }
          ]
         },
         "layout": {
          "annotationdefaults": {
           "arrowcolor": "#2a3f5f",
           "arrowhead": 0,
           "arrowwidth": 1
          },
          "autotypenumbers": "strict",
          "coloraxis": {
           "colorbar": {
            "outlinewidth": 0,
            "ticks": ""
           }
          },
          "colorscale": {
           "diverging": [
            [
             0,
             "#8e0152"
            ],
            [
             0.1,
             "#c51b7d"
            ],
            [
             0.2,
             "#de77ae"
            ],
            [
             0.3,
             "#f1b6da"
            ],
            [
             0.4,
             "#fde0ef"
            ],
            [
             0.5,
             "#f7f7f7"
            ],
            [
             0.6,
             "#e6f5d0"
            ],
            [
             0.7,
             "#b8e186"
            ],
            [
             0.8,
             "#7fbc41"
            ],
            [
             0.9,
             "#4d9221"
            ],
            [
             1,
             "#276419"
            ]
           ],
           "sequential": [
            [
             0,
             "#0d0887"
            ],
            [
             0.1111111111111111,
             "#46039f"
            ],
            [
             0.2222222222222222,
             "#7201a8"
            ],
            [
             0.3333333333333333,
             "#9c179e"
            ],
            [
             0.4444444444444444,
             "#bd3786"
            ],
            [
             0.5555555555555556,
             "#d8576b"
            ],
            [
             0.6666666666666666,
             "#ed7953"
            ],
            [
             0.7777777777777778,
             "#fb9f3a"
            ],
            [
             0.8888888888888888,
             "#fdca26"
            ],
            [
             1,
             "#f0f921"
            ]
           ],
           "sequentialminus": [
            [
             0,
             "#0d0887"
            ],
            [
             0.1111111111111111,
             "#46039f"
            ],
            [
             0.2222222222222222,
             "#7201a8"
            ],
            [
             0.3333333333333333,
             "#9c179e"
            ],
            [
             0.4444444444444444,
             "#bd3786"
            ],
            [
             0.5555555555555556,
             "#d8576b"
            ],
            [
             0.6666666666666666,
             "#ed7953"
            ],
            [
             0.7777777777777778,
             "#fb9f3a"
            ],
            [
             0.8888888888888888,
             "#fdca26"
            ],
            [
             1,
             "#f0f921"
            ]
           ]
          },
          "colorway": [
           "#636efa",
           "#EF553B",
           "#00cc96",
           "#ab63fa",
           "#FFA15A",
           "#19d3f3",
           "#FF6692",
           "#B6E880",
           "#FF97FF",
           "#FECB52"
          ],
          "font": {
           "color": "#2a3f5f"
          },
          "geo": {
           "bgcolor": "white",
           "lakecolor": "white",
           "landcolor": "#E5ECF6",
           "showlakes": true,
           "showland": true,
           "subunitcolor": "white"
          },
          "hoverlabel": {
           "align": "left"
          },
          "hovermode": "closest",
          "mapbox": {
           "style": "light"
          },
          "paper_bgcolor": "white",
          "plot_bgcolor": "#E5ECF6",
          "polar": {
           "angularaxis": {
            "gridcolor": "white",
            "linecolor": "white",
            "ticks": ""
           },
           "bgcolor": "#E5ECF6",
           "radialaxis": {
            "gridcolor": "white",
            "linecolor": "white",
            "ticks": ""
           }
          },
          "scene": {
           "xaxis": {
            "backgroundcolor": "#E5ECF6",
            "gridcolor": "white",
            "gridwidth": 2,
            "linecolor": "white",
            "showbackground": true,
            "ticks": "",
            "zerolinecolor": "white"
           },
           "yaxis": {
            "backgroundcolor": "#E5ECF6",
            "gridcolor": "white",
            "gridwidth": 2,
            "linecolor": "white",
            "showbackground": true,
            "ticks": "",
            "zerolinecolor": "white"
           },
           "zaxis": {
            "backgroundcolor": "#E5ECF6",
            "gridcolor": "white",
            "gridwidth": 2,
            "linecolor": "white",
            "showbackground": true,
            "ticks": "",
            "zerolinecolor": "white"
           }
          },
          "shapedefaults": {
           "line": {
            "color": "#2a3f5f"
           }
          },
          "ternary": {
           "aaxis": {
            "gridcolor": "white",
            "linecolor": "white",
            "ticks": ""
           },
           "baxis": {
            "gridcolor": "white",
            "linecolor": "white",
            "ticks": ""
           },
           "bgcolor": "#E5ECF6",
           "caxis": {
            "gridcolor": "white",
            "linecolor": "white",
            "ticks": ""
           }
          },
          "title": {
           "x": 0.05
          },
          "xaxis": {
           "automargin": true,
           "gridcolor": "white",
           "linecolor": "white",
           "ticks": "",
           "title": {
            "standoff": 15
           },
           "zerolinecolor": "white",
           "zerolinewidth": 2
          },
          "yaxis": {
           "automargin": true,
           "gridcolor": "white",
           "linecolor": "white",
           "ticks": "",
           "title": {
            "standoff": 15
           },
           "zerolinecolor": "white",
           "zerolinewidth": 2
          }
         }
        },
        "width": 1000,
        "xaxis": {
         "anchor": "y",
         "constrain": "domain",
         "domain": [
          0,
          1
         ],
         "scaleanchor": "y"
        },
        "yaxis": {
         "anchor": "x",
         "autorange": "reversed",
         "constrain": "domain",
         "domain": [
          0,
          1
         ]
        }
       }
      }
     },
     "metadata": {},
     "output_type": "display_data"
    }
   ],
   "source": [
    "px.imshow(\n",
    "    df[numeric_features].corr(), color_continuous_scale=cm, width=1000, height=1000\n",
    ")"
   ]
  },
  {
   "cell_type": "code",
   "execution_count": 124,
   "metadata": {},
   "outputs": [
    {
     "data": {
      "application/vnd.plotly.v1+json": {
       "config": {
        "plotlyServerURL": "https://plot.ly"
       },
       "data": [
        {
         "coloraxis": "coloraxis",
         "hovertemplate": "x: %{x}<br>y: %{y}<br>color: %{z}<extra></extra>",
         "name": "0",
         "type": "heatmap",
         "x": [
          "MSSubClass",
          "LotFrontage",
          "LotArea",
          "OverallQual",
          "OverallCond",
          "YearBuilt",
          "YearRemodAdd",
          "MasVnrArea",
          "BsmtFinSF1",
          "BsmtFinSF2",
          "BsmtUnfSF",
          "TotalBsmtSF",
          "1stFlrSF",
          "2ndFlrSF",
          "LowQualFinSF",
          "GrLivArea",
          "BsmtFullBath",
          "BsmtHalfBath",
          "FullBath",
          "HalfBath",
          "BedroomAbvGr",
          "KitchenAbvGr",
          "TotRmsAbvGrd",
          "Fireplaces",
          "GarageYrBlt",
          "GarageCars",
          "GarageArea",
          "WoodDeckSF",
          "OpenPorchSF",
          "EnclosedPorch",
          "3SsnPorch",
          "ScreenPorch",
          "PoolArea",
          "MiscVal",
          "MoSold",
          "YrSold",
          "SalePrice"
         ],
         "xaxis": "x",
         "y": [
          "SalePrice"
         ],
         "yaxis": "y",
         "z": [
          [
           -0.08428413512659509,
           0.33454394077734473,
           0.2638433538714051,
           0.7909816005838053,
           -0.07785589404867797,
           0.5228973328794967,
           0.5071009671113866,
           0.4726144990045735,
           0.3864198062421535,
           -0.011378121450215146,
           0.21447910554696928,
           0.6135805515591943,
           0.6058521846919153,
           0.31933380283206736,
           -0.02560613000067955,
           0.7086244776126515,
           0.22712223313149427,
           -0.01684415429735895,
           0.5606637627484453,
           0.28410767559478256,
           0.16821315430073963,
           -0.13590737084214105,
           0.5337231555820284,
           0.46692883675152763,
           0.4690560752611331,
           0.6404091972583519,
           0.6234314389183622,
           0.32441344456812926,
           0.31585622711605504,
           -0.1285779579259566,
           0.04458366533574838,
           0.11144657114291112,
           0.09240354949187318,
           -0.021189579640303213,
           0.046432245223819446,
           -0.028922585168736813,
           1
          ]
         ]
        }
       ],
       "layout": {
        "coloraxis": {
         "colorscale": [
          [
           0,
           "rgb(211, 242, 163)"
          ],
          [
           0.16666666666666666,
           "rgb(151, 225, 150)"
          ],
          [
           0.3333333333333333,
           "rgb(108, 192, 139)"
          ],
          [
           0.5,
           "rgb(76, 155, 130)"
          ],
          [
           0.6666666666666666,
           "rgb(33, 122, 121)"
          ],
          [
           0.8333333333333334,
           "rgb(16, 89, 101)"
          ],
          [
           1,
           "rgb(7, 64, 80)"
          ]
         ]
        },
        "margin": {
         "t": 60
        },
        "template": {
         "data": {
          "bar": [
           {
            "error_x": {
             "color": "#2a3f5f"
            },
            "error_y": {
             "color": "#2a3f5f"
            },
            "marker": {
             "line": {
              "color": "#E5ECF6",
              "width": 0.5
             },
             "pattern": {
              "fillmode": "overlay",
              "size": 10,
              "solidity": 0.2
             }
            },
            "type": "bar"
           }
          ],
          "barpolar": [
           {
            "marker": {
             "line": {
              "color": "#E5ECF6",
              "width": 0.5
             },
             "pattern": {
              "fillmode": "overlay",
              "size": 10,
              "solidity": 0.2
             }
            },
            "type": "barpolar"
           }
          ],
          "carpet": [
           {
            "aaxis": {
             "endlinecolor": "#2a3f5f",
             "gridcolor": "white",
             "linecolor": "white",
             "minorgridcolor": "white",
             "startlinecolor": "#2a3f5f"
            },
            "baxis": {
             "endlinecolor": "#2a3f5f",
             "gridcolor": "white",
             "linecolor": "white",
             "minorgridcolor": "white",
             "startlinecolor": "#2a3f5f"
            },
            "type": "carpet"
           }
          ],
          "choropleth": [
           {
            "colorbar": {
             "outlinewidth": 0,
             "ticks": ""
            },
            "type": "choropleth"
           }
          ],
          "contour": [
           {
            "colorbar": {
             "outlinewidth": 0,
             "ticks": ""
            },
            "colorscale": [
             [
              0,
              "#0d0887"
             ],
             [
              0.1111111111111111,
              "#46039f"
             ],
             [
              0.2222222222222222,
              "#7201a8"
             ],
             [
              0.3333333333333333,
              "#9c179e"
             ],
             [
              0.4444444444444444,
              "#bd3786"
             ],
             [
              0.5555555555555556,
              "#d8576b"
             ],
             [
              0.6666666666666666,
              "#ed7953"
             ],
             [
              0.7777777777777778,
              "#fb9f3a"
             ],
             [
              0.8888888888888888,
              "#fdca26"
             ],
             [
              1,
              "#f0f921"
             ]
            ],
            "type": "contour"
           }
          ],
          "contourcarpet": [
           {
            "colorbar": {
             "outlinewidth": 0,
             "ticks": ""
            },
            "type": "contourcarpet"
           }
          ],
          "heatmap": [
           {
            "colorbar": {
             "outlinewidth": 0,
             "ticks": ""
            },
            "colorscale": [
             [
              0,
              "#0d0887"
             ],
             [
              0.1111111111111111,
              "#46039f"
             ],
             [
              0.2222222222222222,
              "#7201a8"
             ],
             [
              0.3333333333333333,
              "#9c179e"
             ],
             [
              0.4444444444444444,
              "#bd3786"
             ],
             [
              0.5555555555555556,
              "#d8576b"
             ],
             [
              0.6666666666666666,
              "#ed7953"
             ],
             [
              0.7777777777777778,
              "#fb9f3a"
             ],
             [
              0.8888888888888888,
              "#fdca26"
             ],
             [
              1,
              "#f0f921"
             ]
            ],
            "type": "heatmap"
           }
          ],
          "heatmapgl": [
           {
            "colorbar": {
             "outlinewidth": 0,
             "ticks": ""
            },
            "colorscale": [
             [
              0,
              "#0d0887"
             ],
             [
              0.1111111111111111,
              "#46039f"
             ],
             [
              0.2222222222222222,
              "#7201a8"
             ],
             [
              0.3333333333333333,
              "#9c179e"
             ],
             [
              0.4444444444444444,
              "#bd3786"
             ],
             [
              0.5555555555555556,
              "#d8576b"
             ],
             [
              0.6666666666666666,
              "#ed7953"
             ],
             [
              0.7777777777777778,
              "#fb9f3a"
             ],
             [
              0.8888888888888888,
              "#fdca26"
             ],
             [
              1,
              "#f0f921"
             ]
            ],
            "type": "heatmapgl"
           }
          ],
          "histogram": [
           {
            "marker": {
             "pattern": {
              "fillmode": "overlay",
              "size": 10,
              "solidity": 0.2
             }
            },
            "type": "histogram"
           }
          ],
          "histogram2d": [
           {
            "colorbar": {
             "outlinewidth": 0,
             "ticks": ""
            },
            "colorscale": [
             [
              0,
              "#0d0887"
             ],
             [
              0.1111111111111111,
              "#46039f"
             ],
             [
              0.2222222222222222,
              "#7201a8"
             ],
             [
              0.3333333333333333,
              "#9c179e"
             ],
             [
              0.4444444444444444,
              "#bd3786"
             ],
             [
              0.5555555555555556,
              "#d8576b"
             ],
             [
              0.6666666666666666,
              "#ed7953"
             ],
             [
              0.7777777777777778,
              "#fb9f3a"
             ],
             [
              0.8888888888888888,
              "#fdca26"
             ],
             [
              1,
              "#f0f921"
             ]
            ],
            "type": "histogram2d"
           }
          ],
          "histogram2dcontour": [
           {
            "colorbar": {
             "outlinewidth": 0,
             "ticks": ""
            },
            "colorscale": [
             [
              0,
              "#0d0887"
             ],
             [
              0.1111111111111111,
              "#46039f"
             ],
             [
              0.2222222222222222,
              "#7201a8"
             ],
             [
              0.3333333333333333,
              "#9c179e"
             ],
             [
              0.4444444444444444,
              "#bd3786"
             ],
             [
              0.5555555555555556,
              "#d8576b"
             ],
             [
              0.6666666666666666,
              "#ed7953"
             ],
             [
              0.7777777777777778,
              "#fb9f3a"
             ],
             [
              0.8888888888888888,
              "#fdca26"
             ],
             [
              1,
              "#f0f921"
             ]
            ],
            "type": "histogram2dcontour"
           }
          ],
          "mesh3d": [
           {
            "colorbar": {
             "outlinewidth": 0,
             "ticks": ""
            },
            "type": "mesh3d"
           }
          ],
          "parcoords": [
           {
            "line": {
             "colorbar": {
              "outlinewidth": 0,
              "ticks": ""
             }
            },
            "type": "parcoords"
           }
          ],
          "pie": [
           {
            "automargin": true,
            "type": "pie"
           }
          ],
          "scatter": [
           {
            "fillpattern": {
             "fillmode": "overlay",
             "size": 10,
             "solidity": 0.2
            },
            "type": "scatter"
           }
          ],
          "scatter3d": [
           {
            "line": {
             "colorbar": {
              "outlinewidth": 0,
              "ticks": ""
             }
            },
            "marker": {
             "colorbar": {
              "outlinewidth": 0,
              "ticks": ""
             }
            },
            "type": "scatter3d"
           }
          ],
          "scattercarpet": [
           {
            "marker": {
             "colorbar": {
              "outlinewidth": 0,
              "ticks": ""
             }
            },
            "type": "scattercarpet"
           }
          ],
          "scattergeo": [
           {
            "marker": {
             "colorbar": {
              "outlinewidth": 0,
              "ticks": ""
             }
            },
            "type": "scattergeo"
           }
          ],
          "scattergl": [
           {
            "marker": {
             "colorbar": {
              "outlinewidth": 0,
              "ticks": ""
             }
            },
            "type": "scattergl"
           }
          ],
          "scattermapbox": [
           {
            "marker": {
             "colorbar": {
              "outlinewidth": 0,
              "ticks": ""
             }
            },
            "type": "scattermapbox"
           }
          ],
          "scatterpolar": [
           {
            "marker": {
             "colorbar": {
              "outlinewidth": 0,
              "ticks": ""
             }
            },
            "type": "scatterpolar"
           }
          ],
          "scatterpolargl": [
           {
            "marker": {
             "colorbar": {
              "outlinewidth": 0,
              "ticks": ""
             }
            },
            "type": "scatterpolargl"
           }
          ],
          "scatterternary": [
           {
            "marker": {
             "colorbar": {
              "outlinewidth": 0,
              "ticks": ""
             }
            },
            "type": "scatterternary"
           }
          ],
          "surface": [
           {
            "colorbar": {
             "outlinewidth": 0,
             "ticks": ""
            },
            "colorscale": [
             [
              0,
              "#0d0887"
             ],
             [
              0.1111111111111111,
              "#46039f"
             ],
             [
              0.2222222222222222,
              "#7201a8"
             ],
             [
              0.3333333333333333,
              "#9c179e"
             ],
             [
              0.4444444444444444,
              "#bd3786"
             ],
             [
              0.5555555555555556,
              "#d8576b"
             ],
             [
              0.6666666666666666,
              "#ed7953"
             ],
             [
              0.7777777777777778,
              "#fb9f3a"
             ],
             [
              0.8888888888888888,
              "#fdca26"
             ],
             [
              1,
              "#f0f921"
             ]
            ],
            "type": "surface"
           }
          ],
          "table": [
           {
            "cells": {
             "fill": {
              "color": "#EBF0F8"
             },
             "line": {
              "color": "white"
             }
            },
            "header": {
             "fill": {
              "color": "#C8D4E3"
             },
             "line": {
              "color": "white"
             }
            },
            "type": "table"
           }
          ]
         },
         "layout": {
          "annotationdefaults": {
           "arrowcolor": "#2a3f5f",
           "arrowhead": 0,
           "arrowwidth": 1
          },
          "autotypenumbers": "strict",
          "coloraxis": {
           "colorbar": {
            "outlinewidth": 0,
            "ticks": ""
           }
          },
          "colorscale": {
           "diverging": [
            [
             0,
             "#8e0152"
            ],
            [
             0.1,
             "#c51b7d"
            ],
            [
             0.2,
             "#de77ae"
            ],
            [
             0.3,
             "#f1b6da"
            ],
            [
             0.4,
             "#fde0ef"
            ],
            [
             0.5,
             "#f7f7f7"
            ],
            [
             0.6,
             "#e6f5d0"
            ],
            [
             0.7,
             "#b8e186"
            ],
            [
             0.8,
             "#7fbc41"
            ],
            [
             0.9,
             "#4d9221"
            ],
            [
             1,
             "#276419"
            ]
           ],
           "sequential": [
            [
             0,
             "#0d0887"
            ],
            [
             0.1111111111111111,
             "#46039f"
            ],
            [
             0.2222222222222222,
             "#7201a8"
            ],
            [
             0.3333333333333333,
             "#9c179e"
            ],
            [
             0.4444444444444444,
             "#bd3786"
            ],
            [
             0.5555555555555556,
             "#d8576b"
            ],
            [
             0.6666666666666666,
             "#ed7953"
            ],
            [
             0.7777777777777778,
             "#fb9f3a"
            ],
            [
             0.8888888888888888,
             "#fdca26"
            ],
            [
             1,
             "#f0f921"
            ]
           ],
           "sequentialminus": [
            [
             0,
             "#0d0887"
            ],
            [
             0.1111111111111111,
             "#46039f"
            ],
            [
             0.2222222222222222,
             "#7201a8"
            ],
            [
             0.3333333333333333,
             "#9c179e"
            ],
            [
             0.4444444444444444,
             "#bd3786"
            ],
            [
             0.5555555555555556,
             "#d8576b"
            ],
            [
             0.6666666666666666,
             "#ed7953"
            ],
            [
             0.7777777777777778,
             "#fb9f3a"
            ],
            [
             0.8888888888888888,
             "#fdca26"
            ],
            [
             1,
             "#f0f921"
            ]
           ]
          },
          "colorway": [
           "#636efa",
           "#EF553B",
           "#00cc96",
           "#ab63fa",
           "#FFA15A",
           "#19d3f3",
           "#FF6692",
           "#B6E880",
           "#FF97FF",
           "#FECB52"
          ],
          "font": {
           "color": "#2a3f5f"
          },
          "geo": {
           "bgcolor": "white",
           "lakecolor": "white",
           "landcolor": "#E5ECF6",
           "showlakes": true,
           "showland": true,
           "subunitcolor": "white"
          },
          "hoverlabel": {
           "align": "left"
          },
          "hovermode": "closest",
          "mapbox": {
           "style": "light"
          },
          "paper_bgcolor": "white",
          "plot_bgcolor": "#E5ECF6",
          "polar": {
           "angularaxis": {
            "gridcolor": "white",
            "linecolor": "white",
            "ticks": ""
           },
           "bgcolor": "#E5ECF6",
           "radialaxis": {
            "gridcolor": "white",
            "linecolor": "white",
            "ticks": ""
           }
          },
          "scene": {
           "xaxis": {
            "backgroundcolor": "#E5ECF6",
            "gridcolor": "white",
            "gridwidth": 2,
            "linecolor": "white",
            "showbackground": true,
            "ticks": "",
            "zerolinecolor": "white"
           },
           "yaxis": {
            "backgroundcolor": "#E5ECF6",
            "gridcolor": "white",
            "gridwidth": 2,
            "linecolor": "white",
            "showbackground": true,
            "ticks": "",
            "zerolinecolor": "white"
           },
           "zaxis": {
            "backgroundcolor": "#E5ECF6",
            "gridcolor": "white",
            "gridwidth": 2,
            "linecolor": "white",
            "showbackground": true,
            "ticks": "",
            "zerolinecolor": "white"
           }
          },
          "shapedefaults": {
           "line": {
            "color": "#2a3f5f"
           }
          },
          "ternary": {
           "aaxis": {
            "gridcolor": "white",
            "linecolor": "white",
            "ticks": ""
           },
           "baxis": {
            "gridcolor": "white",
            "linecolor": "white",
            "ticks": ""
           },
           "bgcolor": "#E5ECF6",
           "caxis": {
            "gridcolor": "white",
            "linecolor": "white",
            "ticks": ""
           }
          },
          "title": {
           "x": 0.05
          },
          "xaxis": {
           "automargin": true,
           "gridcolor": "white",
           "linecolor": "white",
           "ticks": "",
           "title": {
            "standoff": 15
           },
           "zerolinecolor": "white",
           "zerolinewidth": 2
          },
          "yaxis": {
           "automargin": true,
           "gridcolor": "white",
           "linecolor": "white",
           "ticks": "",
           "title": {
            "standoff": 15
           },
           "zerolinecolor": "white",
           "zerolinewidth": 2
          }
         }
        },
        "xaxis": {
         "anchor": "y",
         "constrain": "domain",
         "domain": [
          0,
          1
         ],
         "scaleanchor": "y"
        },
        "yaxis": {
         "anchor": "x",
         "autorange": "reversed",
         "constrain": "domain",
         "domain": [
          0,
          1
         ]
        }
       }
      }
     },
     "metadata": {},
     "output_type": "display_data"
    }
   ],
   "source": [
    "px.imshow(df[numeric_features].corr()[[\"SalePrice\"]].T, color_continuous_scale=cm)"
   ]
  },
  {
   "cell_type": "code",
   "execution_count": 125,
   "metadata": {},
   "outputs": [
    {
     "data": {
      "text/html": [
       "<div>\n",
       "<style scoped>\n",
       "    .dataframe tbody tr th:only-of-type {\n",
       "        vertical-align: middle;\n",
       "    }\n",
       "\n",
       "    .dataframe tbody tr th {\n",
       "        vertical-align: top;\n",
       "    }\n",
       "\n",
       "    .dataframe thead th {\n",
       "        text-align: right;\n",
       "    }\n",
       "</style>\n",
       "<table border=\"1\" class=\"dataframe\">\n",
       "  <thead>\n",
       "    <tr style=\"text-align: right;\">\n",
       "      <th></th>\n",
       "      <th>OverallQual</th>\n",
       "      <th>TotalBsmtSF</th>\n",
       "      <th>1stFlrSF</th>\n",
       "      <th>GrLivArea</th>\n",
       "      <th>GarageCars</th>\n",
       "      <th>GarageArea</th>\n",
       "      <th>SalePrice</th>\n",
       "    </tr>\n",
       "  </thead>\n",
       "  <tbody>\n",
       "    <tr>\n",
       "      <th>0</th>\n",
       "      <td>7.00</td>\n",
       "      <td>856.00</td>\n",
       "      <td>856.00</td>\n",
       "      <td>1710.00</td>\n",
       "      <td>2.00</td>\n",
       "      <td>548.00</td>\n",
       "      <td>208500.00</td>\n",
       "    </tr>\n",
       "    <tr>\n",
       "      <th>1</th>\n",
       "      <td>6.00</td>\n",
       "      <td>1262.00</td>\n",
       "      <td>1262.00</td>\n",
       "      <td>1262.00</td>\n",
       "      <td>2.00</td>\n",
       "      <td>460.00</td>\n",
       "      <td>181500.00</td>\n",
       "    </tr>\n",
       "    <tr>\n",
       "      <th>2</th>\n",
       "      <td>7.00</td>\n",
       "      <td>920.00</td>\n",
       "      <td>920.00</td>\n",
       "      <td>1786.00</td>\n",
       "      <td>2.00</td>\n",
       "      <td>608.00</td>\n",
       "      <td>223500.00</td>\n",
       "    </tr>\n",
       "    <tr>\n",
       "      <th>3</th>\n",
       "      <td>7.00</td>\n",
       "      <td>756.00</td>\n",
       "      <td>961.00</td>\n",
       "      <td>1717.00</td>\n",
       "      <td>3.00</td>\n",
       "      <td>642.00</td>\n",
       "      <td>140000.00</td>\n",
       "    </tr>\n",
       "    <tr>\n",
       "      <th>4</th>\n",
       "      <td>8.00</td>\n",
       "      <td>1145.00</td>\n",
       "      <td>1145.00</td>\n",
       "      <td>2198.00</td>\n",
       "      <td>3.00</td>\n",
       "      <td>836.00</td>\n",
       "      <td>250000.00</td>\n",
       "    </tr>\n",
       "  </tbody>\n",
       "</table>\n",
       "</div>"
      ],
      "text/plain": [
       "   OverallQual  TotalBsmtSF  1stFlrSF  GrLivArea  GarageCars  GarageArea  \\\n",
       "0         7.00       856.00    856.00    1710.00        2.00      548.00   \n",
       "1         6.00      1262.00   1262.00    1262.00        2.00      460.00   \n",
       "2         7.00       920.00    920.00    1786.00        2.00      608.00   \n",
       "3         7.00       756.00    961.00    1717.00        3.00      642.00   \n",
       "4         8.00      1145.00   1145.00    2198.00        3.00      836.00   \n",
       "\n",
       "   SalePrice  \n",
       "0  208500.00  \n",
       "1  181500.00  \n",
       "2  223500.00  \n",
       "3  140000.00  \n",
       "4  250000.00  "
      ]
     },
     "execution_count": 125,
     "metadata": {},
     "output_type": "execute_result"
    }
   ],
   "source": [
    "predictive_features = my_module.get_corr_features(\n",
    "    df[numeric_features].corr()[\"SalePrice\"], 0.6\n",
    ")\n",
    "df_final = df[predictive_features].copy(deep=True)\n",
    "df_final.head()"
   ]
  },
  {
   "attachments": {},
   "cell_type": "markdown",
   "metadata": {},
   "source": [
    "Get the features with predictive power\n"
   ]
  },
  {
   "cell_type": "code",
   "execution_count": 126,
   "metadata": {},
   "outputs": [
    {
     "data": {
      "text/html": [
       "<div>\n",
       "<style scoped>\n",
       "    .dataframe tbody tr th:only-of-type {\n",
       "        vertical-align: middle;\n",
       "    }\n",
       "\n",
       "    .dataframe tbody tr th {\n",
       "        vertical-align: top;\n",
       "    }\n",
       "\n",
       "    .dataframe thead th {\n",
       "        text-align: right;\n",
       "    }\n",
       "</style>\n",
       "<table border=\"1\" class=\"dataframe\">\n",
       "  <thead>\n",
       "    <tr style=\"text-align: right;\">\n",
       "      <th></th>\n",
       "      <th>OverallQual</th>\n",
       "      <th>TotalBsmtSF</th>\n",
       "      <th>1stFlrSF</th>\n",
       "      <th>GrLivArea</th>\n",
       "      <th>GarageCars</th>\n",
       "      <th>GarageArea</th>\n",
       "      <th>SalePrice</th>\n",
       "    </tr>\n",
       "  </thead>\n",
       "  <tbody>\n",
       "    <tr>\n",
       "      <th>0</th>\n",
       "      <td>0.65</td>\n",
       "      <td>-0.44</td>\n",
       "      <td>-0.77</td>\n",
       "      <td>0.41</td>\n",
       "      <td>0.31</td>\n",
       "      <td>0.35</td>\n",
       "      <td>208500.00</td>\n",
       "    </tr>\n",
       "    <tr>\n",
       "      <th>1</th>\n",
       "      <td>-0.06</td>\n",
       "      <td>0.48</td>\n",
       "      <td>0.26</td>\n",
       "      <td>-0.47</td>\n",
       "      <td>0.31</td>\n",
       "      <td>-0.06</td>\n",
       "      <td>181500.00</td>\n",
       "    </tr>\n",
       "    <tr>\n",
       "      <th>2</th>\n",
       "      <td>0.65</td>\n",
       "      <td>-0.30</td>\n",
       "      <td>-0.61</td>\n",
       "      <td>0.56</td>\n",
       "      <td>0.31</td>\n",
       "      <td>0.63</td>\n",
       "      <td>223500.00</td>\n",
       "    </tr>\n",
       "    <tr>\n",
       "      <th>3</th>\n",
       "      <td>0.65</td>\n",
       "      <td>-0.67</td>\n",
       "      <td>-0.51</td>\n",
       "      <td>0.43</td>\n",
       "      <td>1.62</td>\n",
       "      <td>0.79</td>\n",
       "      <td>140000.00</td>\n",
       "    </tr>\n",
       "    <tr>\n",
       "      <th>4</th>\n",
       "      <td>1.36</td>\n",
       "      <td>0.21</td>\n",
       "      <td>-0.04</td>\n",
       "      <td>1.38</td>\n",
       "      <td>1.62</td>\n",
       "      <td>1.69</td>\n",
       "      <td>250000.00</td>\n",
       "    </tr>\n",
       "  </tbody>\n",
       "</table>\n",
       "</div>"
      ],
      "text/plain": [
       "   OverallQual  TotalBsmtSF  1stFlrSF  GrLivArea  GarageCars  GarageArea  \\\n",
       "0         0.65        -0.44     -0.77       0.41        0.31        0.35   \n",
       "1        -0.06         0.48      0.26      -0.47        0.31       -0.06   \n",
       "2         0.65        -0.30     -0.61       0.56        0.31        0.63   \n",
       "3         0.65        -0.67     -0.51       0.43        1.62        0.79   \n",
       "4         1.36         0.21     -0.04       1.38        1.62        1.69   \n",
       "\n",
       "   SalePrice  \n",
       "0  208500.00  \n",
       "1  181500.00  \n",
       "2  223500.00  \n",
       "3  140000.00  \n",
       "4  250000.00  "
      ]
     },
     "execution_count": 126,
     "metadata": {},
     "output_type": "execute_result"
    }
   ],
   "source": [
    "scaler = preprocessing.StandardScaler()\n",
    "df_final[df_final.columns[:-1]] = scaler.fit_transform(df_final.iloc[:, :-1])\n",
    "df_final.head()"
   ]
  },
  {
   "attachments": {},
   "cell_type": "markdown",
   "metadata": {},
   "source": [
    "<a id=\"3\"></a>\n",
    "\n",
    "# 3. Model development\n"
   ]
  },
  {
   "attachments": {},
   "cell_type": "markdown",
   "metadata": {},
   "source": [
    "<a id='3.1'> </a>\n",
    "\n",
    "## 3.1 Baseline\n"
   ]
  },
  {
   "cell_type": "code",
   "execution_count": 127,
   "metadata": {},
   "outputs": [
    {
     "data": {
      "text/plain": [
       "Index(['OverallQual', 'TotalBsmtSF', '1stFlrSF', 'GrLivArea', 'GarageCars',\n",
       "       'GarageArea', 'SalePrice'],\n",
       "      dtype='object')"
      ]
     },
     "execution_count": 127,
     "metadata": {},
     "output_type": "execute_result"
    }
   ],
   "source": [
    "df_final.columns"
   ]
  },
  {
   "cell_type": "code",
   "execution_count": 155,
   "metadata": {},
   "outputs": [],
   "source": [
    "features = [\n",
    "    \"OverallQual\",\n",
    "    \"TotalBsmtSF\",\n",
    "    \"GrLivArea\",\n",
    "    \"GarageArea\",\n",
    "    \"GarageCars\",\n",
    "    \"1stFlrSF\",\n",
    "    \"SalePrice\",\n",
    "]\n",
    "\n",
    "df_features = df_final[features]"
   ]
  },
  {
   "cell_type": "code",
   "execution_count": 156,
   "metadata": {},
   "outputs": [
    {
     "name": "stdout",
     "output_type": "stream",
     "text": [
      "Engineered features do not contain nulls.\n"
     ]
    }
   ],
   "source": [
    "my_module.test_nulls(df_features.iloc[:, :-1])"
   ]
  },
  {
   "cell_type": "code",
   "execution_count": 157,
   "metadata": {},
   "outputs": [],
   "source": [
    "rng = 0\n",
    "x = df_features[~df_features[\"SalePrice\"].isna()][df_features.columns[:-1]]\n",
    "y = df_features[~df_features[\"SalePrice\"].isna()][\"SalePrice\"]\n",
    "\n",
    "x_train, x_test, y_train, y_test = train_test_split(\n",
    "    x, y, test_size=0.2, random_state=rng\n",
    ")"
   ]
  },
  {
   "cell_type": "code",
   "execution_count": 158,
   "metadata": {},
   "outputs": [
    {
     "data": {
      "text/html": [
       "<div>\n",
       "<style scoped>\n",
       "    .dataframe tbody tr th:only-of-type {\n",
       "        vertical-align: middle;\n",
       "    }\n",
       "\n",
       "    .dataframe tbody tr th {\n",
       "        vertical-align: top;\n",
       "    }\n",
       "\n",
       "    .dataframe thead th {\n",
       "        text-align: right;\n",
       "    }\n",
       "</style>\n",
       "<table border=\"1\" class=\"dataframe\">\n",
       "  <thead>\n",
       "    <tr style=\"text-align: right;\">\n",
       "      <th></th>\n",
       "      <th>OverallQual</th>\n",
       "      <th>TotalBsmtSF</th>\n",
       "      <th>GrLivArea</th>\n",
       "      <th>GarageArea</th>\n",
       "      <th>GarageCars</th>\n",
       "      <th>1stFlrSF</th>\n",
       "    </tr>\n",
       "  </thead>\n",
       "  <tbody>\n",
       "    <tr>\n",
       "      <th>0</th>\n",
       "      <td>True</td>\n",
       "      <td>True</td>\n",
       "      <td>True</td>\n",
       "      <td>True</td>\n",
       "      <td>True</td>\n",
       "      <td>True</td>\n",
       "    </tr>\n",
       "  </tbody>\n",
       "</table>\n",
       "</div>"
      ],
      "text/plain": [
       "   OverallQual  TotalBsmtSF  GrLivArea  GarageArea  GarageCars  1stFlrSF\n",
       "0         True         True       True        True        True      True"
      ]
     },
     "execution_count": 158,
     "metadata": {},
     "output_type": "execute_result"
    }
   ],
   "source": [
    "my_module.check_distribution(x_train, x_test)"
   ]
  },
  {
   "attachments": {},
   "cell_type": "markdown",
   "metadata": {},
   "source": [
    "As we predict a continues value, we can use a mean value as a baseline\n"
   ]
  },
  {
   "cell_type": "code",
   "execution_count": 159,
   "metadata": {},
   "outputs": [
    {
     "name": "stdout",
     "output_type": "stream",
     "text": [
      "MSE: 6306788585.349299\n",
      "RMSLE: 0.16613594413479232\n",
      "R2 Square -1.8614354393748998e+30\n",
      "______\n"
     ]
    }
   ],
   "source": [
    "mean_price = np.full(len(x), np.mean(y))\n",
    "my_module.print_evaluate_regression(mean_price, y)"
   ]
  },
  {
   "attachments": {},
   "cell_type": "markdown",
   "metadata": {},
   "source": [
    "<a id='3.2'></a>\n",
    "\n",
    "## 3.2 Simple model with a few features with predictive power\n"
   ]
  },
  {
   "cell_type": "code",
   "execution_count": 160,
   "metadata": {},
   "outputs": [
    {
     "data": {
      "text/html": [
       "<div>\n",
       "<style scoped>\n",
       "    .dataframe tbody tr th:only-of-type {\n",
       "        vertical-align: middle;\n",
       "    }\n",
       "\n",
       "    .dataframe tbody tr th {\n",
       "        vertical-align: top;\n",
       "    }\n",
       "\n",
       "    .dataframe thead th {\n",
       "        text-align: right;\n",
       "    }\n",
       "</style>\n",
       "<table border=\"1\" class=\"dataframe\">\n",
       "  <thead>\n",
       "    <tr style=\"text-align: right;\">\n",
       "      <th></th>\n",
       "      <th>OverallQual</th>\n",
       "      <th>TotalBsmtSF</th>\n",
       "      <th>GrLivArea</th>\n",
       "      <th>GarageArea</th>\n",
       "      <th>GarageCars</th>\n",
       "      <th>1stFlrSF</th>\n",
       "    </tr>\n",
       "  </thead>\n",
       "  <tbody>\n",
       "    <tr>\n",
       "      <th>618</th>\n",
       "      <td>2.06</td>\n",
       "      <td>1.75</td>\n",
       "      <td>0.65</td>\n",
       "      <td>1.40</td>\n",
       "      <td>1.62</td>\n",
       "      <td>1.70</td>\n",
       "    </tr>\n",
       "    <tr>\n",
       "      <th>870</th>\n",
       "      <td>-0.77</td>\n",
       "      <td>-0.36</td>\n",
       "      <td>-1.20</td>\n",
       "      <td>-0.77</td>\n",
       "      <td>-1.01</td>\n",
       "      <td>-0.68</td>\n",
       "    </tr>\n",
       "    <tr>\n",
       "      <th>92</th>\n",
       "      <td>-0.77</td>\n",
       "      <td>-0.40</td>\n",
       "      <td>-1.06</td>\n",
       "      <td>-0.19</td>\n",
       "      <td>0.31</td>\n",
       "      <td>-0.50</td>\n",
       "    </tr>\n",
       "    <tr>\n",
       "      <th>817</th>\n",
       "      <td>1.36</td>\n",
       "      <td>1.17</td>\n",
       "      <td>0.37</td>\n",
       "      <td>1.78</td>\n",
       "      <td>1.62</td>\n",
       "      <td>1.35</td>\n",
       "    </tr>\n",
       "    <tr>\n",
       "      <th>302</th>\n",
       "      <td>0.65</td>\n",
       "      <td>1.11</td>\n",
       "      <td>0.08</td>\n",
       "      <td>1.72</td>\n",
       "      <td>1.62</td>\n",
       "      <td>0.97</td>\n",
       "    </tr>\n",
       "  </tbody>\n",
       "</table>\n",
       "</div>"
      ],
      "text/plain": [
       "     OverallQual  TotalBsmtSF  GrLivArea  GarageArea  GarageCars  1stFlrSF\n",
       "618         2.06         1.75       0.65        1.40        1.62      1.70\n",
       "870        -0.77        -0.36      -1.20       -0.77       -1.01     -0.68\n",
       "92         -0.77        -0.40      -1.06       -0.19        0.31     -0.50\n",
       "817         1.36         1.17       0.37        1.78        1.62      1.35\n",
       "302         0.65         1.11       0.08        1.72        1.62      0.97"
      ]
     },
     "execution_count": 160,
     "metadata": {},
     "output_type": "execute_result"
    }
   ],
   "source": [
    "x_train.head()"
   ]
  },
  {
   "cell_type": "code",
   "execution_count": 161,
   "metadata": {},
   "outputs": [
    {
     "name": "stdout",
     "output_type": "stream",
     "text": [
      "Final training loss: 1274753920.0\n",
      "Final Validation loss: 687654016.0\n",
      "10/10 [==============================] - 0s 889us/step\n",
      "MSE: 2370686758.221829\n",
      "RMSLE: 0.03534684335365366\n",
      "R2 Square 0.6540068774679302\n",
      "______\n"
     ]
    },
    {
     "data": {
      "image/png": "[encoded data removed]",
      "text/plain": [
       "<Figure size 640x480 with 1 Axes>"
      ]
     },
     "metadata": {},
     "output_type": "display_data"
    }
   ],
   "source": [
    "learning_rate = 0.5\n",
    "epochs = 40\n",
    "batch_size = 50\n",
    "\n",
    "model = None\n",
    "\n",
    "# Define model\n",
    "model = keras.Sequential()\n",
    "model.add(\n",
    "    keras.layers.Dense(\n",
    "        units=x_train.shape[1], activation=\"relu\", input_dim=x_train.shape[1]\n",
    "    )\n",
    ")\n",
    "model.add(\n",
    "    keras.layers.Dense(\n",
    "        units=x_train.shape[1], activation=\"relu\", input_dim=x_train.shape[1]\n",
    "    )\n",
    ")\n",
    "\n",
    "model.add(keras.layers.Dense(units=1, activation=\"linear\"))\n",
    "# Specify the optimizer using the TF API to specify the learning rate\n",
    "model.compile(optimizer=tf.optimizers.Adam(learning_rate=learning_rate), loss=\"mse\")\n",
    "# Train the model\n",
    "trainHistory = model.fit(\n",
    "    x_train,\n",
    "    y_train,\n",
    "    epochs=epochs,\n",
    "    batch_size=batch_size,\n",
    "    validation_split=0.2,\n",
    "    verbose=0,\n",
    ")\n",
    "# Plot\n",
    "my_module.showRegressionResults(trainHistory)\n",
    "\n",
    "\n",
    "my_module.print_evaluate_regression(model.predict(x_test), y_test)"
   ]
  },
  {
   "cell_type": "code",
   "execution_count": 162,
   "metadata": {},
   "outputs": [
    {
     "name": "stdout",
     "output_type": "stream",
     "text": [
      "10/10 [==============================] - 0s 1000us/step\n"
     ]
    }
   ],
   "source": [
    "import logging\n",
    "\n",
    "logname = \"model_results.log\"\n",
    "\n",
    "logging.basicConfig(\n",
    "    filename=logname,\n",
    "    filemode=\"a\",\n",
    "    format=\"%(asctime)s,%(msecs)d %(name)s %(levelname)s %(message)s\",\n",
    "    datefmt=\"%H:%M:%S\",\n",
    "    level=logging.INFO,\n",
    ")\n",
    "\n",
    "logger = logging.getLogger(\"my_logger\")\n",
    "\n",
    "logging.info(\"Logging set\")\n",
    "logging.info(model.to_json())\n",
    "logging.info(features[:-1])\n",
    "my_module.log_evaluate_regression(model.predict(x_test), y_test)\n",
    "logging.shutdown()"
   ]
  },
  {
   "cell_type": "code",
   "execution_count": 163,
   "metadata": {},
   "outputs": [
    {
     "name": "stdout",
     "output_type": "stream",
     "text": [
      "30/30 [==============================] - 0s 931us/step\n"
     ]
    }
   ],
   "source": [
    "x_sub = df_final.loc[df_final[\"SalePrice\"].isna()][features[:-1]]\n",
    "pred = model.predict(x_sub, batch_size=batch_size).flatten()\n",
    "\n",
    "pd.DataFrame({\"Id\": test_ID, \"SalePrice\": pred}).to_csv(\"submission.csv\", index=False)"
   ]
  }
 ],
 "metadata": {
  "kernelspec": {
   "display_name": "Python 3",
   "language": "python",
   "name": "python3"
  },
  "language_info": {
   "codemirror_mode": {
    "name": "ipython",
    "version": 3
   },
   "file_extension": ".py",
   "mimetype": "text/x-python",
   "name": "python",
   "nbconvert_exporter": "python",
   "pygments_lexer": "ipython3",
   "version": "3.10.8"
  },
  "orig_nbformat": 4
 },
 "nbformat": 4,
 "nbformat_minor": 2
}
